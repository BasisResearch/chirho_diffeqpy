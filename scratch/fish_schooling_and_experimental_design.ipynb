{
 "cells": [
  {
   "cell_type": "markdown",
   "source": [
    "# Introduction \n",
    "In this notebook, we present an experimental design pipeline to find the most informative experiment that can resolve a parameter non-identification issue in a dynamical system. For illustration purposes, we choose a dynamical system that corresponds to a toy model of fish schooling, wherein two fish deterministically match each other's swimming directions with different copy coefficients or rates. The scientific question/task is to determine their individual copying coefficients from observed polarization data. \n",
    "\n",
    "In particular, we use Chiro's dynamical systems module to model the dynamical system, and the counterfactual module to model different experiments as transforamtions of the original system. #TODO : @Andy anything else to add/modify here?\n",
    "\n",
    "First, let's load all the required modules into the notebook"
   ],
   "metadata": {
    "collapsed": false
   },
   "id": "ad5666a720f74ee6"
  },
  {
   "cell_type": "code",
   "outputs": [
    {
     "name": "stdout",
     "output_type": "stream",
     "text": [
      "Detected IPython. Loading juliacall extension. See https://juliapy.github.io/PythonCall.jl/stable/compat/#IPython\n"
     ]
    },
    {
     "name": "stderr",
     "output_type": "stream",
     "text": [
      "  Activating project at `~/.julia/environments/diffeqpy`\n",
      "  Activating project at `~/.julia/environments/diffeqpy`\n",
      "  Activating project at `~/.julia/environments/diffeqpy`\n",
      "  Activating project at `~/.julia/environments/diffeqpy`\n"
     ]
    }
   ],
   "source": [
    "# NO CHANGE\n",
    "from chirho_diffeqpy import DiffEqPy, ATempParams\n",
    "from chirho.dynamical.handlers.solver import TorchDiffEq\n",
    "from chirho.dynamical.ops import simulate\n",
    "from chirho.dynamical.handlers.trajectory import LogTrajectory\n",
    "from chirho.dynamical.handlers import StaticBatchObservation, StaticIntervention, DynamicIntervention\n",
    "from chirho.counterfactual.handlers import MultiWorldCounterfactual\n",
    "from chirho.observational.handlers import condition\n",
    "from chirho.dynamical.ops import State\n",
    "import numpy as np\n",
    "import torch\n",
    "from pyro import sample, set_rng_seed\n",
    "from pyro.distributions import Uniform, Poisson\n",
    "from typing import Tuple, Optional, Union, Callable\n",
    "from functools import partial\n",
    "from numbers import Real\n",
    "import matplotlib.pyplot as plt\n",
    "import pyro\n",
    "import pyro.distributions as dist\n",
    "from pyro.infer.autoguide import AutoDelta, AutoMultivariateNormal\n",
    "from contextlib import nullcontext\n",
    "# The DiffEqPy backend interfaces with julia, so we must load a julia<>python interop backend.\n",
    "import chirho_diffeqpy.lang_interop.julianumpy\n",
    "from contextlib import ExitStack, nullcontext\n",
    "from pyro.contrib.autoname import scope\n",
    "# Global params are weird.\n",
    "from functools import singledispatch, partial\n",
    "import pyro\n",
    "import torch\n",
    "import zuko\n",
    "from pyro.contrib.zuko import ZukoToPyro\n",
    "from pyro.contrib.easyguide import easy_guide\n",
    "from collections import namedtuple\n",
    "from chirho.observational.handlers import condition\n",
    "from itertools import product\n",
    "from toy_fish.handlers import VirtualFishContext\n",
    "from toy_fish.ops import sin, cos, NoVirtualFish, virtual_fish_dynamics\n",
    "from collections import namedtuple\n",
    "\n",
    "pyro.settings.set(module_local_params=True)\n",
    "torch.set_default_dtype(torch.float64)\n",
    "pyro.set_rng_seed(82901)"
   ],
   "metadata": {
    "collapsed": false,
    "ExecuteTime": {
     "end_time": "2024-09-23T13:54:33.697161Z",
     "start_time": "2024-09-23T13:54:10.276424Z"
    }
   },
   "id": "18c9ae4e182b5e56",
   "execution_count": 1
  },
  {
   "cell_type": "markdown",
   "source": [
    "# System Definition"
   ],
   "metadata": {
    "collapsed": false
   },
   "id": "72eaa49999d44784"
  },
  {
   "cell_type": "markdown",
   "source": [
    "Many species of fish are known to exhibit a social phenomenon known as schooling, wherein a group of individuals come together and swim in the same direction in a co-ordinated manner.  Let's consider a simple dynamical model of this phenomenon with two fish whose heading directions are denoted by the angles $\\theta_1(t)$ and $\\theta_2(t)$ respectively. For simplicity, we ignore spatial co-ordinates, and only describe the dynamics of their heading angles. Suppose the fish match each other’s heading angles deterministically, with potentially different copying rates $\\alpha$ and $\\beta$. \n",
    "\n",
    "The dynamics can be described by the following system of ODEs :\n",
    "\n",
    "$$\\frac{d\\theta_1}{dt} = \\alpha(\\theta_2-\\theta_1)$$\n",
    "$$\\frac{d\\theta_2}{dt} = \\beta(\\theta_1-\\theta_2)$$\n",
    "\n",
    "Under these dynamics, the heading angles of the two fish approach a common value exponentially fast. \n",
    "\n",
    "Let's set up the dynamical system and plot a sample trajectory."
   ],
   "metadata": {
    "collapsed": false
   },
   "id": "59a980c3a7a018b"
  },
  {
   "cell_type": "markdown",
   "source": [
    "### General, Multi-Fish System Dynamics"
   ],
   "metadata": {
    "collapsed": false
   },
   "id": "e34ddfac060e066b"
  },
  {
   "cell_type": "code",
   "outputs": [],
   "source": [
    "# NO CHANGE\n",
    "def pure_schooling_dynamics(state, atemp_params):\n",
    "    thetas = state['thetas']\n",
    "    # Later on in the notebook, we will introduce the idea of a \"virtual\" fish\n",
    "    # that can be used as an experimental perturbation to the system.\n",
    "    # For now, let's set up the dynamical system, keeping this perturbation in mind.\n",
    "    \n",
    "    # The presence/absence of a virtual fish is denoted by the experimental context.\n",
    "    # The following block computes the effect of the virtual fish on the dynamics,\n",
    "    # if the model is being run in the experimental context of a virtual fish\n",
    "    try:\n",
    "        # ...if the virtual fish is present.\n",
    "        ddt_vfish = virtual_fish_dynamics(state, atemp_params)\n",
    "        vfish_theta = state['vfish_theta']\n",
    "        virtual_fish_diff = vfish_theta - thetas\n",
    "    except NoVirtualFish:\n",
    "        # ...otherwise proceed with no virtual fish.\n",
    "        ddt_vfish = dict()\n",
    "        virtual_fish_diff = 0.0\n",
    "    \n",
    "    # Compute the difference in heading angles between the real fish and virtual fish.\n",
    "    thetas_diff_mat = thetas[..., :, None] - thetas[..., None, :]\n",
    "    thetas_diff_tots = thetas_diff_mat.sum(axis=-2) + virtual_fish_diff\n",
    "    assert thetas.shape == thetas_diff_tots.shape\n",
    "    \n",
    "    # And the resulting dynamics.\n",
    "    copy_coefs = atemp_params['copy_coefs']\n",
    "    dthetas = thetas_diff_tots * copy_coefs\n",
    "    \n",
    "    return dict(\n",
    "        thetas=dthetas,\n",
    "        **ddt_vfish\n",
    "    )"
   ],
   "metadata": {
    "collapsed": false,
    "ExecuteTime": {
     "end_time": "2024-09-23T13:54:33.701965Z",
     "start_time": "2024-09-23T13:54:33.698301Z"
    }
   },
   "id": "334aa0637b8496a6",
   "execution_count": 2
  },
  {
   "cell_type": "markdown",
   "source": [
    "### Low Level Experimental Model"
   ],
   "metadata": {
    "collapsed": false
   },
   "id": "e4e83d7ba76bf0b0"
  },
  {
   "cell_type": "code",
   "outputs": [],
   "source": [
    "# NO CHANGE\n",
    "START_T = torch.tensor(0.0)\n",
    "END_T = torch.tensor(10.0)\n",
    "RES = 50\n",
    "GET_TRUE_COPY_COEFS = lambda: torch.tensor([3., 1.])\n",
    "\n",
    "def run_experiment(logging_times, initial_state, atemp_params):\n",
    "    with LogTrajectory(times=logging_times) as logging_trajectory:\n",
    "        simulate(\n",
    "            pure_schooling_dynamics,\n",
    "            initial_state,\n",
    "            START_T,\n",
    "            END_T,\n",
    "            atemp_params=atemp_params\n",
    "        )\n",
    "    return logging_trajectory.trajectory"
   ],
   "metadata": {
    "collapsed": false,
    "ExecuteTime": {
     "end_time": "2024-09-23T13:54:33.720398Z",
     "start_time": "2024-09-23T13:54:33.701625Z"
    }
   },
   "id": "b82387a47d7adcd6",
   "execution_count": 3
  },
  {
   "cell_type": "markdown",
   "source": [
    "### Visualization"
   ],
   "metadata": {
    "collapsed": false
   },
   "id": "19986cd4e05ec27e"
  },
  {
   "cell_type": "code",
   "outputs": [],
   "source": [
    "def plot_experiments(trajectories : dict, polarizations : dict):\n",
    "    if len(trajectories):\n",
    "        fig,ax = plt.subplots(1,len(trajectories),figsize=(4*len(trajectories),4))\n",
    "        for i, label in enumerate(trajectories.keys()):\n",
    "            trajectory = trajectories[label]\n",
    "            plotlabels = [f\"fish {i}\" for i in range(1,1+trajectory['thetas'].shape[0])]\n",
    "            ax[i].plot(trajectory['thetas'].detach().numpy().T, label=plotlabels)\n",
    "            if 'vfish_theta' in trajectory:\n",
    "                ax[i].plot(trajectory['vfish_theta'].detach().numpy(), label='virtual fish', linestyle=\"--\")\n",
    "            ax[i].legend()\n",
    "            ax[i].set_xlabel(\"Time\",fontsize=15)\n",
    "            ax[i].set_ylabel(r\"$\\theta_i(t)$\",fontsize=15)\n",
    "            ax[i].set_title(label,fontsize=15)\n",
    "        fig.suptitle(\"Trajectories\",fontsize=20)\n",
    "        fig.tight_layout()\n",
    "        plt.show()\n",
    "\n",
    "    if len(polarizations):\n",
    "        plt.figure()\n",
    "        plt.suptitle(\"Polarizations\",fontsize=20)\n",
    "        for i, label in enumerate(polarizations.keys()):\n",
    "            polarization = polarizations[label]\n",
    "            plt.plot(polarization.detach().numpy(), label=label)\n",
    "        plt.xlabel(\"Time\",fontsize=15)\n",
    "        plt.ylabel(\"Polarization\",fontsize=15)\n",
    "\n",
    "        plt.legend()\n",
    "        plt.show()"
   ],
   "metadata": {
    "collapsed": false,
    "ExecuteTime": {
     "end_time": "2024-09-23T13:54:33.722372Z",
     "start_time": "2024-09-23T13:54:33.706057Z"
    }
   },
   "id": "c9a3d100a6d1c088",
   "execution_count": 4
  },
  {
   "cell_type": "markdown",
   "source": [
    "### Sample trajectory with two fish"
   ],
   "metadata": {
    "collapsed": false
   },
   "id": "e841b3f182c5c178"
  },
  {
   "cell_type": "code",
   "outputs": [],
   "source": [
    "# NO CHANGE\n",
    "SOLVER = DiffEqPy()"
   ],
   "metadata": {
    "collapsed": false,
    "ExecuteTime": {
     "end_time": "2024-09-23T13:54:33.724098Z",
     "start_time": "2024-09-23T13:54:33.709208Z"
    }
   },
   "id": "5ecf2d0cee16a8de",
   "execution_count": 5
  },
  {
   "cell_type": "code",
   "outputs": [
    {
     "data": {
      "text/plain": "<Figure size 800x400 with 2 Axes>",
      "image/png": "[encoded data removed]"
     },
     "metadata": {},
     "output_type": "display_data"
    }
   ],
   "source": [
    "# Default experimental context with no virtual fish\n",
    "no_vfish = nullcontext()\n",
    "\n",
    "fixed_observation_times = torch.linspace(START_T, END_T, RES)\n",
    "initial_state = torch.tensor([0, torch.pi])\n",
    "copy_coefs13 = torch.tensor([1., 3.])\n",
    "copy_coefs31 = torch.tensor([3., 1.])\n",
    "\n",
    "with SOLVER, no_vfish:\n",
    "    traj13 = run_experiment(\n",
    "        logging_times=fixed_observation_times,\n",
    "        initial_state=dict(thetas=initial_state),\n",
    "        atemp_params=dict(\n",
    "            copy_coefs= copy_coefs13\n",
    "        )\n",
    "    )\n",
    "\n",
    "    traj31 = run_experiment(\n",
    "        logging_times=fixed_observation_times,\n",
    "        initial_state=dict(thetas=initial_state),\n",
    "        atemp_params=dict(\n",
    "            copy_coefs=copy_coefs31\n",
    "        )\n",
    "    )\n",
    "\n",
    "trajectories= {\n",
    "    rf\"$\\alpha$ = {copy_coefs13[0]}, $\\beta$ ={copy_coefs13[1]}\" : traj13,\n",
    "    rf\"$\\alpha$ = {copy_coefs31[0]}, $\\beta$ ={copy_coefs31[1]}\"  : traj31\n",
    "}\n",
    "\n",
    "plot_experiments(trajectories=trajectories, polarizations={})"
   ],
   "metadata": {
    "collapsed": false,
    "ExecuteTime": {
     "end_time": "2024-09-23T13:54:45.434527Z",
     "start_time": "2024-09-23T13:54:33.713939Z"
    }
   },
   "id": "f5c55e5ddd431016",
   "execution_count": 6
  },
  {
   "cell_type": "markdown",
   "source": [
    "# Macroscopic Observations"
   ],
   "metadata": {
    "collapsed": false
   },
   "id": "83cf0e22c1bf7d9f"
  },
  {
   "cell_type": "markdown",
   "source": [
    "We can quantify the extent of alignment in the swimming directions of the fish using the mean of their heading direction vectors.\n",
    "\n",
    "$$\\vec{m} = \\frac{1}{2}\\begin{bmatrix} \\mathrm{cos}\\theta_1 + \\mathrm{cos}\\theta_2 \\\\ \\mathrm{sin}\\theta_1 + \\mathrm{sin}\\theta_2 \\\\\\end{bmatrix}$$ \n",
    "\n",
    "In particular, we might be interested in the macroscopic order parameter, polarization, defined as the magnitude $|\\vec{m}|$. Polarization takes values in [0,1], with $|\\vec{m}|=1$ denoting perfect alignment, and $|\\vec{m}|=0$ denoting perfect misalignment in swimming directions. We have,\n",
    "\n",
    "$$\n",
    "|\\vec{m}| = \\sqrt{\\frac{1+\\mathrm{cos}\\Delta\\theta}{2}}, \\quad \\Delta\\theta = \\theta_1- \\theta_2\n",
    "$$\n",
    "\n",
    "Now, $$\\frac{d\\Delta\\theta}{dt} = -(\\alpha + \\beta) \\Delta \\theta$$\n",
    "\n",
    "which implies, \n",
    "$$\\Delta \\theta = \\Delta\\theta_0 \\mathrm{e}^{-(\\alpha+\\beta)t}$$\n",
    "\n",
    "and, $$|\\vec{m}(t)| = \\sqrt{\\frac{1+\\mathrm{cos}\\left(\\Delta\\theta_0 \\mathrm{e}^{-(\\alpha+\\beta)t}\\right)}{2}}$$\n",
    "\n",
    "Thus, we see that for the chosen toy model, the dynamics of the polarization only depend on the sum of the copy coeffients of the two fish ($\\alpha + \\beta$)."
   ],
   "metadata": {
    "collapsed": false
   },
   "id": "91d2017df4cee092"
  },
  {
   "cell_type": "code",
   "outputs": [],
   "source": [
    "# NO CHANGE\n",
    "def polarization_fn(theta):\n",
    "    theta = theta.T\n",
    "    assert theta.shape[-1] == 2, \"Multi-fish polarization is not yet implemented!\"\n",
    "    return torch.sqrt((1 + torch.cos(theta[...,0] - theta[...,1]))/2)"
   ],
   "metadata": {
    "collapsed": false,
    "ExecuteTime": {
     "end_time": "2024-09-23T13:54:45.438797Z",
     "start_time": "2024-09-23T13:54:45.433653Z"
    }
   },
   "id": "f30d9e365597c59e",
   "execution_count": 7
  },
  {
   "cell_type": "code",
   "outputs": [
    {
     "data": {
      "text/plain": "<Figure size 640x480 with 1 Axes>",
      "image/png": "[encoded data removed]"
     },
     "metadata": {},
     "output_type": "display_data"
    }
   ],
   "source": [
    "polarizations = {\n",
    "    rf\"$\\alpha$ = {copy_coefs13[0]}, $\\beta$ ={copy_coefs13[1]}\" : polarization_fn(traj13['thetas']),\n",
    "    rf\"$\\alpha$ = {copy_coefs31[0]}, $\\beta$ ={copy_coefs31[1]}\"  : polarization_fn(traj31['thetas'])\n",
    "}\n",
    "\n",
    "plot_experiments(trajectories={}, polarizations=polarizations)"
   ],
   "metadata": {
    "collapsed": false,
    "ExecuteTime": {
     "end_time": "2024-09-23T13:54:45.569497Z",
     "start_time": "2024-09-23T13:54:45.436029Z"
    }
   },
   "id": "29d8c9590a95185c",
   "execution_count": 8
  },
  {
   "cell_type": "markdown",
   "source": [
    "Let's imagine a scenario where we are interested in individual heterogeneity of copying parameters, but can only make macroscopic measurements of the system. In other words, we only have access to the polarization, and not the individual heading angle trajectories. The analytical solution for $|\\vec{m}|$ shows that any parameter inference using the macroscopic data would be unable to recover the individual copy coefficients ($\\alpha$ and $\\beta$). This is an example of a parameter non-identification issue.\n",
    "\n",
    "Let's illustrate this parameter non-identification by running inference conditioned on the macroscopic data.\n",
    "\n",
    "\n",
    "**Note**: for this toy example with two fish, restricting experimental data to macroscopic observations is perhaps an unrealistic constraint, given that it should be possible to track individuals in the tank, in a lab environment. However, there is some basis for this assumption when we consider observations of a large number of fish in more naturalistic settings. In this case, tracking individuals in video recordings using computer vision techniques may be noisy and unfeasible. However, it would still be possible to extract macroscopic quantities like polarization by analyzing visual flow in frames, for example. "
   ],
   "metadata": {
    "collapsed": false
   },
   "id": "f69aa0a2c683c089"
  },
  {
   "cell_type": "markdown",
   "source": [
    "### Macroscopic Experimental Model"
   ],
   "metadata": {
    "collapsed": false
   },
   "id": "b14bbf89bb675f07"
  },
  {
   "cell_type": "code",
   "outputs": [],
   "source": [
    "# NO CHANGE\n",
    "def copy_coefficient_prior(num_fish: int):\n",
    "    return sample(\"copy_coefs\", dist.Uniform(0., 10.).expand((num_fish,)).to_event(1))\n",
    "\n",
    "def mesoscopic_experiment_model(\n",
    "    num_fish: int,\n",
    "    mesoscopioc_noise: float,\n",
    "    experimental_context = None,\n",
    "    copy_coefs = None,\n",
    "    initial_state = None,\n",
    "):\n",
    "    \n",
    "    if experimental_context is None:\n",
    "        experimental_context = nullcontext()\n",
    "    \n",
    "    if copy_coefs is None:\n",
    "        copy_coefs = copy_coefficient_prior(num_fish)\n",
    "    \n",
    "    if initial_state is None:\n",
    "        initial_state = dict(\n",
    "            thetas=torch.linspace(0., torch.pi, num_fish)\n",
    "        )\n",
    "    \n",
    "    fixed_observation_times = torch.linspace(START_T, END_T, RES)\n",
    "    \n",
    "    with SOLVER, experimental_context:\n",
    "        trajectory = run_experiment(\n",
    "            logging_times=fixed_observation_times,\n",
    "            initial_state=initial_state,\n",
    "            atemp_params=dict(\n",
    "                copy_coefs=copy_coefs\n",
    "            )\n",
    "        )\n",
    "        \n",
    "        polarization = polarization_fn(trajectory['thetas'])\n",
    "        # A trivial noise model over the polarization. This largely functions to relax the problem for inference.\n",
    "        observed_polarization = pyro.sample(\"polarization\", dist.Normal(polarization, mesoscopioc_noise).to_event(1))\n",
    "        \n",
    "        return trajectory, observed_polarization"
   ],
   "metadata": {
    "collapsed": false,
    "ExecuteTime": {
     "end_time": "2024-09-23T13:54:45.571303Z",
     "start_time": "2024-09-23T13:54:45.525707Z"
    }
   },
   "id": "cfa0baa31593dc84",
   "execution_count": 9
  },
  {
   "cell_type": "code",
   "outputs": [],
   "source": [
    "LOW_NOISE = 0.0001\n",
    "\n",
    "low_noise_experiment = partial(\n",
    "    mesoscopic_experiment_model,\n",
    "    num_fish=2,\n",
    "    mesoscopioc_noise=LOW_NOISE,\n",
    "    experimental_context=no_vfish,\n",
    ")\n",
    " \n",
    "with pyro.condition(data={\"copy_coefs\": copy_coefs31}):\n",
    "    traj31_noisy, pol31_noisy = low_noise_experiment()\n",
    "\n",
    "with pyro.condition(data={\"copy_coefs\": copy_coefs13}):\n",
    "    traj13_noisy, pol13_noisy = low_noise_experiment()"
   ],
   "metadata": {
    "collapsed": false,
    "ExecuteTime": {
     "end_time": "2024-09-23T13:54:45.664618Z",
     "start_time": "2024-09-23T13:54:45.535331Z"
    }
   },
   "id": "57d84fc02e6f1968",
   "execution_count": 10
  },
  {
   "cell_type": "code",
   "outputs": [
    {
     "data": {
      "text/plain": "<Figure size 800x400 with 2 Axes>",
      "image/png": "[encoded data removed]"
     },
     "metadata": {},
     "output_type": "display_data"
    },
    {
     "data": {
      "text/plain": "<Figure size 640x480 with 1 Axes>",
      "image/png": "[encoded data removed]"
     },
     "metadata": {},
     "output_type": "display_data"
    }
   ],
   "source": [
    "trajectories= {\n",
    "    rf\"$\\alpha$ = {copy_coefs13[0]}, $\\beta$ ={copy_coefs13[1]}\" : traj13_noisy,\n",
    "    rf\"$\\alpha$ = {copy_coefs31[0]}, $\\beta$ ={copy_coefs31[1]}\"  : traj31_noisy\n",
    "}\n",
    "\n",
    "polarizations= {\n",
    "    rf\"$\\alpha$ = {copy_coefs13[0]}, $\\beta$ ={copy_coefs13[1]}\" : pol13_noisy,\n",
    "    rf\"$\\alpha$ = {copy_coefs31[0]}, $\\beta$ ={copy_coefs31[1]}\"  : pol31_noisy\n",
    "}\n",
    "\n",
    "# confirm that noise does not significantly distort the dynamics!\n",
    "plot_experiments(trajectories,polarizations)\n"
   ],
   "metadata": {
    "collapsed": false,
    "ExecuteTime": {
     "end_time": "2024-09-23T13:54:45.895696Z",
     "start_time": "2024-09-23T13:54:45.574786Z"
    }
   },
   "id": "7e1484faf9cbcf28",
   "execution_count": 11
  },
  {
   "cell_type": "markdown",
   "source": [
    "To infer the true parameters, we evaluate the log likelihood of the polarization dyanmics over of a mesh of $\\alpha$ and $\\beta$ values. \n",
    "\n",
    "To estimate the posterior distribution, we then draw samples from the mesh, weighted by the computed log likelihoods."
   ],
   "metadata": {
    "collapsed": false
   },
   "id": "f522ae1385cfe518"
  },
  {
   "cell_type": "code",
   "outputs": [],
   "source": [
    "# NO CHANGE\n",
    "PosteriorMesh = namedtuple(\"PosteriorMesh\", [\"alpha\", \"beta\", \"log_prob\"])\n",
    "\n",
    "def likelihood_mesh_2fish(model, n=90, lower=0., upper=7., verbose=True):\n",
    "    # Make a torch meshgrid of copy coefficients.\n",
    "    alpha = torch.linspace(lower, upper, n)\n",
    "    beta = torch.linspace(lower, upper, n)\n",
    "    alpha, beta = torch.meshgrid(alpha, beta, indexing='xy')\n",
    "    latents = torch.stack([alpha, beta], dim=0).reshape(2, -1).T  # .shape == (n^2, 2)\n",
    "    \n",
    "    log_probs = []\n",
    "    for copy_coefs in latents:\n",
    "        with pyro.poutine.trace() as tr:\n",
    "            with condition(data=dict(copy_coefs=copy_coefs)):\n",
    "                model()\n",
    "        log_probs.append(tr.trace.log_prob_sum())\n",
    "        if verbose:\n",
    "            print(f\"Progress {len(log_probs)}/{latents.shape[0]}\", end=\"\\r\")\n",
    "    \n",
    "    if verbose:\n",
    "        print()\n",
    "    \n",
    "    return PosteriorMesh(alpha, beta, torch.tensor(log_probs).reshape(n, n))"
   ],
   "metadata": {
    "collapsed": false,
    "ExecuteTime": {
     "end_time": "2024-09-23T13:54:45.897873Z",
     "start_time": "2024-09-23T13:54:45.871954Z"
    }
   },
   "id": "e5bcf371c76f955a",
   "execution_count": 12
  },
  {
   "cell_type": "code",
   "outputs": [],
   "source": [
    "# NO CHANGE\n",
    "def sample_from_mesh(mesh, num_samples, noise=0.05):\n",
    "    xy = torch.stack([mesh.alpha, mesh.beta], dim=0).reshape(2, -1)\n",
    "    probs = torch.softmax(mesh.log_prob.reshape(-1) - mesh.log_prob.max(), dim=0)\n",
    "    idxs = torch.multinomial(probs, num_samples, replacement=True)\n",
    "    return xy[:, idxs].T + torch.randn_like(xy[:, idxs].T) * noise"
   ],
   "metadata": {
    "collapsed": false,
    "ExecuteTime": {
     "end_time": "2024-09-23T13:54:45.916159Z",
     "start_time": "2024-09-23T13:54:45.876917Z"
    }
   },
   "id": "ce87d23d0e897492",
   "execution_count": 13
  },
  {
   "cell_type": "code",
   "outputs": [
    {
     "name": "stdout",
     "output_type": "stream",
     "text": [
      "Progress 1614/2500\r"
     ]
    },
    {
     "ename": "KeyboardInterrupt",
     "evalue": "",
     "output_type": "error",
     "traceback": [
      "\u001B[0;31m---------------------------------------------------------------------------\u001B[0m",
      "\u001B[0;31mKeyboardInterrupt\u001B[0m                         Traceback (most recent call last)",
      "Cell \u001B[0;32mIn[14], line 1\u001B[0m\n\u001B[0;32m----> 1\u001B[0m mesh31 \u001B[38;5;241m=\u001B[39m \u001B[43mlikelihood_mesh_2fish\u001B[49m\u001B[43m(\u001B[49m\n\u001B[1;32m      2\u001B[0m \u001B[43m    \u001B[49m\u001B[43mcondition\u001B[49m\u001B[43m(\u001B[49m\n\u001B[1;32m      3\u001B[0m \u001B[43m        \u001B[49m\u001B[43mlow_noise_experiment\u001B[49m\u001B[43m,\u001B[49m\n\u001B[1;32m      4\u001B[0m \u001B[43m        \u001B[49m\u001B[43mdata\u001B[49m\u001B[38;5;241;43m=\u001B[39;49m\u001B[43m{\u001B[49m\u001B[38;5;124;43m\"\u001B[39;49m\u001B[38;5;124;43mpolarization\u001B[39;49m\u001B[38;5;124;43m\"\u001B[39;49m\u001B[43m:\u001B[49m\u001B[43m \u001B[49m\u001B[43mpol31_noisy\u001B[49m\u001B[43m}\u001B[49m\n\u001B[1;32m      5\u001B[0m \u001B[43m    \u001B[49m\u001B[43m)\u001B[49m\u001B[43m,\u001B[49m\n\u001B[1;32m      6\u001B[0m \u001B[43m    \u001B[49m\u001B[43mn\u001B[49m\u001B[38;5;241;43m=\u001B[39;49m\u001B[38;5;241;43m50\u001B[39;49m\n\u001B[1;32m      7\u001B[0m \u001B[43m)\u001B[49m\n\u001B[1;32m      9\u001B[0m mesh13 \u001B[38;5;241m=\u001B[39m likelihood_mesh_2fish(\n\u001B[1;32m     10\u001B[0m     condition(\n\u001B[1;32m     11\u001B[0m         low_noise_experiment,\n\u001B[0;32m   (...)\u001B[0m\n\u001B[1;32m     14\u001B[0m     n\u001B[38;5;241m=\u001B[39m\u001B[38;5;241m50\u001B[39m\n\u001B[1;32m     15\u001B[0m )\n",
      "Cell \u001B[0;32mIn[12], line 15\u001B[0m, in \u001B[0;36mlikelihood_mesh_2fish\u001B[0;34m(model, n, lower, upper, verbose)\u001B[0m\n\u001B[1;32m     13\u001B[0m \u001B[38;5;28;01mwith\u001B[39;00m pyro\u001B[38;5;241m.\u001B[39mpoutine\u001B[38;5;241m.\u001B[39mtrace() \u001B[38;5;28;01mas\u001B[39;00m tr:\n\u001B[1;32m     14\u001B[0m     \u001B[38;5;28;01mwith\u001B[39;00m condition(data\u001B[38;5;241m=\u001B[39m\u001B[38;5;28mdict\u001B[39m(copy_coefs\u001B[38;5;241m=\u001B[39mcopy_coefs)):\n\u001B[0;32m---> 15\u001B[0m         \u001B[43mmodel\u001B[49m\u001B[43m(\u001B[49m\u001B[43m)\u001B[49m\n\u001B[1;32m     16\u001B[0m log_probs\u001B[38;5;241m.\u001B[39mappend(tr\u001B[38;5;241m.\u001B[39mtrace\u001B[38;5;241m.\u001B[39mlog_prob_sum())\n\u001B[1;32m     17\u001B[0m \u001B[38;5;28;01mif\u001B[39;00m verbose:\n",
      "File \u001B[0;32m~/GitRepo/venvs/chirho_diffeqpy_dev/lib/python3.11/site-packages/pyro/poutine/messenger.py:32\u001B[0m, in \u001B[0;36m_context_wrap\u001B[0;34m(context, fn, *args, **kwargs)\u001B[0m\n\u001B[1;32m     25\u001B[0m \u001B[38;5;28;01mdef\u001B[39;00m \u001B[38;5;21m_context_wrap\u001B[39m(\n\u001B[1;32m     26\u001B[0m     context: \u001B[38;5;124m\"\u001B[39m\u001B[38;5;124mMessenger\u001B[39m\u001B[38;5;124m\"\u001B[39m,\n\u001B[1;32m     27\u001B[0m     fn: Callable,\n\u001B[1;32m     28\u001B[0m     \u001B[38;5;241m*\u001B[39margs: Any,\n\u001B[1;32m     29\u001B[0m     \u001B[38;5;241m*\u001B[39m\u001B[38;5;241m*\u001B[39mkwargs: Any,\n\u001B[1;32m     30\u001B[0m ) \u001B[38;5;241m-\u001B[39m\u001B[38;5;241m>\u001B[39m Any:\n\u001B[1;32m     31\u001B[0m     \u001B[38;5;28;01mwith\u001B[39;00m context:\n\u001B[0;32m---> 32\u001B[0m         \u001B[38;5;28;01mreturn\u001B[39;00m \u001B[43mfn\u001B[49m\u001B[43m(\u001B[49m\u001B[38;5;241;43m*\u001B[39;49m\u001B[43margs\u001B[49m\u001B[43m,\u001B[49m\u001B[43m \u001B[49m\u001B[38;5;241;43m*\u001B[39;49m\u001B[38;5;241;43m*\u001B[39;49m\u001B[43mkwargs\u001B[49m\u001B[43m)\u001B[49m\n",
      "Cell \u001B[0;32mIn[9], line 27\u001B[0m, in \u001B[0;36mmesoscopic_experiment_model\u001B[0;34m(num_fish, mesoscopioc_noise, experimental_context, copy_coefs, initial_state)\u001B[0m\n\u001B[1;32m     24\u001B[0m fixed_observation_times \u001B[38;5;241m=\u001B[39m torch\u001B[38;5;241m.\u001B[39mlinspace(START_T, END_T, RES)\n\u001B[1;32m     26\u001B[0m \u001B[38;5;28;01mwith\u001B[39;00m SOLVER, experimental_context:\n\u001B[0;32m---> 27\u001B[0m     trajectory \u001B[38;5;241m=\u001B[39m \u001B[43mrun_experiment\u001B[49m\u001B[43m(\u001B[49m\n\u001B[1;32m     28\u001B[0m \u001B[43m        \u001B[49m\u001B[43mlogging_times\u001B[49m\u001B[38;5;241;43m=\u001B[39;49m\u001B[43mfixed_observation_times\u001B[49m\u001B[43m,\u001B[49m\n\u001B[1;32m     29\u001B[0m \u001B[43m        \u001B[49m\u001B[43minitial_state\u001B[49m\u001B[38;5;241;43m=\u001B[39;49m\u001B[43minitial_state\u001B[49m\u001B[43m,\u001B[49m\n\u001B[1;32m     30\u001B[0m \u001B[43m        \u001B[49m\u001B[43matemp_params\u001B[49m\u001B[38;5;241;43m=\u001B[39;49m\u001B[38;5;28;43mdict\u001B[39;49m\u001B[43m(\u001B[49m\n\u001B[1;32m     31\u001B[0m \u001B[43m            \u001B[49m\u001B[43mcopy_coefs\u001B[49m\u001B[38;5;241;43m=\u001B[39;49m\u001B[43mcopy_coefs\u001B[49m\n\u001B[1;32m     32\u001B[0m \u001B[43m        \u001B[49m\u001B[43m)\u001B[49m\n\u001B[1;32m     33\u001B[0m \u001B[43m    \u001B[49m\u001B[43m)\u001B[49m\n\u001B[1;32m     35\u001B[0m     polarization \u001B[38;5;241m=\u001B[39m polarization_fn(trajectory[\u001B[38;5;124m'\u001B[39m\u001B[38;5;124mthetas\u001B[39m\u001B[38;5;124m'\u001B[39m])\n\u001B[1;32m     36\u001B[0m     \u001B[38;5;66;03m# A trivial noise model over the polarization. This largely functions to relax the problem for inference.\u001B[39;00m\n",
      "Cell \u001B[0;32mIn[3], line 9\u001B[0m, in \u001B[0;36mrun_experiment\u001B[0;34m(logging_times, initial_state, atemp_params)\u001B[0m\n\u001B[1;32m      7\u001B[0m \u001B[38;5;28;01mdef\u001B[39;00m \u001B[38;5;21mrun_experiment\u001B[39m(logging_times, initial_state, atemp_params):\n\u001B[1;32m      8\u001B[0m     \u001B[38;5;28;01mwith\u001B[39;00m LogTrajectory(times\u001B[38;5;241m=\u001B[39mlogging_times) \u001B[38;5;28;01mas\u001B[39;00m logging_trajectory:\n\u001B[0;32m----> 9\u001B[0m         \u001B[43msimulate\u001B[49m\u001B[43m(\u001B[49m\n\u001B[1;32m     10\u001B[0m \u001B[43m            \u001B[49m\u001B[43mpure_schooling_dynamics\u001B[49m\u001B[43m,\u001B[49m\n\u001B[1;32m     11\u001B[0m \u001B[43m            \u001B[49m\u001B[43minitial_state\u001B[49m\u001B[43m,\u001B[49m\n\u001B[1;32m     12\u001B[0m \u001B[43m            \u001B[49m\u001B[43mSTART_T\u001B[49m\u001B[43m,\u001B[49m\n\u001B[1;32m     13\u001B[0m \u001B[43m            \u001B[49m\u001B[43mEND_T\u001B[49m\u001B[43m,\u001B[49m\n\u001B[1;32m     14\u001B[0m \u001B[43m            \u001B[49m\u001B[43matemp_params\u001B[49m\u001B[38;5;241;43m=\u001B[39;49m\u001B[43matemp_params\u001B[49m\n\u001B[1;32m     15\u001B[0m \u001B[43m        \u001B[49m\u001B[43m)\u001B[49m\n\u001B[1;32m     16\u001B[0m     \u001B[38;5;28;01mreturn\u001B[39;00m logging_trajectory\u001B[38;5;241m.\u001B[39mtrajectory\n",
      "File \u001B[0;32m~/GitRepo/venvs/chirho_diffeqpy_dev/lib/python3.11/site-packages/pyro/poutine/runtime.py:461\u001B[0m, in \u001B[0;36meffectful.<locals>._fn\u001B[0;34m(name, infer, obs, *args, **kwargs)\u001B[0m\n\u001B[1;32m    444\u001B[0m msg \u001B[38;5;241m=\u001B[39m Message(\n\u001B[1;32m    445\u001B[0m     \u001B[38;5;28mtype\u001B[39m\u001B[38;5;241m=\u001B[39m\u001B[38;5;28mtype\u001B[39m,\n\u001B[1;32m    446\u001B[0m     name\u001B[38;5;241m=\u001B[39mname,\n\u001B[0;32m   (...)\u001B[0m\n\u001B[1;32m    458\u001B[0m     infer\u001B[38;5;241m=\u001B[39minfer \u001B[38;5;28;01mif\u001B[39;00m infer \u001B[38;5;129;01mis\u001B[39;00m \u001B[38;5;129;01mnot\u001B[39;00m \u001B[38;5;28;01mNone\u001B[39;00m \u001B[38;5;28;01melse\u001B[39;00m {},\n\u001B[1;32m    459\u001B[0m )\n\u001B[1;32m    460\u001B[0m \u001B[38;5;66;03m# apply the stack and return its return value\u001B[39;00m\n\u001B[0;32m--> 461\u001B[0m \u001B[43mapply_stack\u001B[49m\u001B[43m(\u001B[49m\u001B[43mmsg\u001B[49m\u001B[43m)\u001B[49m\n\u001B[1;32m    462\u001B[0m \u001B[38;5;28;01mif\u001B[39;00m TYPE_CHECKING:\n\u001B[1;32m    463\u001B[0m     \u001B[38;5;28;01massert\u001B[39;00m msg[\u001B[38;5;124m\"\u001B[39m\u001B[38;5;124mvalue\u001B[39m\u001B[38;5;124m\"\u001B[39m] \u001B[38;5;129;01mis\u001B[39;00m \u001B[38;5;129;01mnot\u001B[39;00m \u001B[38;5;28;01mNone\u001B[39;00m\n",
      "File \u001B[0;32m~/GitRepo/venvs/chirho_diffeqpy_dev/lib/python3.11/site-packages/pyro/poutine/runtime.py:378\u001B[0m, in \u001B[0;36mapply_stack\u001B[0;34m(initial_msg)\u001B[0m\n\u001B[1;32m    375\u001B[0m \u001B[38;5;28;01mfor\u001B[39;00m frame \u001B[38;5;129;01min\u001B[39;00m \u001B[38;5;28mreversed\u001B[39m(stack):\n\u001B[1;32m    376\u001B[0m     pointer \u001B[38;5;241m=\u001B[39m pointer \u001B[38;5;241m+\u001B[39m \u001B[38;5;241m1\u001B[39m\n\u001B[0;32m--> 378\u001B[0m     \u001B[43mframe\u001B[49m\u001B[38;5;241;43m.\u001B[39;49m\u001B[43m_process_message\u001B[49m\u001B[43m(\u001B[49m\u001B[43mmsg\u001B[49m\u001B[43m)\u001B[49m\n\u001B[1;32m    380\u001B[0m     \u001B[38;5;28;01mif\u001B[39;00m msg[\u001B[38;5;124m\"\u001B[39m\u001B[38;5;124mstop\u001B[39m\u001B[38;5;124m\"\u001B[39m]:\n\u001B[1;32m    381\u001B[0m         \u001B[38;5;28;01mbreak\u001B[39;00m\n",
      "File \u001B[0;32m~/GitRepo/venvs/chirho_diffeqpy_dev/lib/python3.11/site-packages/pyro/poutine/messenger.py:189\u001B[0m, in \u001B[0;36mMessenger._process_message\u001B[0;34m(self, msg)\u001B[0m\n\u001B[1;32m    187\u001B[0m method \u001B[38;5;241m=\u001B[39m \u001B[38;5;28mgetattr\u001B[39m(\u001B[38;5;28mself\u001B[39m, \u001B[38;5;124mf\u001B[39m\u001B[38;5;124m\"\u001B[39m\u001B[38;5;124m_pyro_\u001B[39m\u001B[38;5;132;01m{\u001B[39;00mmsg[\u001B[38;5;124m'\u001B[39m\u001B[38;5;124mtype\u001B[39m\u001B[38;5;124m'\u001B[39m]\u001B[38;5;132;01m}\u001B[39;00m\u001B[38;5;124m\"\u001B[39m, \u001B[38;5;28;01mNone\u001B[39;00m)\n\u001B[1;32m    188\u001B[0m \u001B[38;5;28;01mif\u001B[39;00m method \u001B[38;5;129;01mis\u001B[39;00m \u001B[38;5;129;01mnot\u001B[39;00m \u001B[38;5;28;01mNone\u001B[39;00m:\n\u001B[0;32m--> 189\u001B[0m     \u001B[43mmethod\u001B[49m\u001B[43m(\u001B[49m\u001B[43mmsg\u001B[49m\u001B[43m)\u001B[49m\n",
      "File \u001B[0;32m~/GitRepo/chirho/chirho/dynamical/internals/solver.py:109\u001B[0m, in \u001B[0;36mSolver._pyro_simulate\u001B[0;34m(self, msg)\u001B[0m\n\u001B[1;32m    106\u001B[0m     \u001B[38;5;28;01mif\u001B[39;00m ph\u001B[38;5;241m.\u001B[39mpriority \u001B[38;5;241m>\u001B[39m start_time:\n\u001B[1;32m    107\u001B[0m         \u001B[38;5;28;01mbreak\u001B[39;00m\n\u001B[0;32m--> 109\u001B[0m state, start_time, next_interruption \u001B[38;5;241m=\u001B[39m \u001B[43msimulate_to_interruption\u001B[49m\u001B[43m(\u001B[49m\n\u001B[1;32m    110\u001B[0m \u001B[43m    \u001B[49m\u001B[43mpossible_interruptions\u001B[49m\u001B[43m,\u001B[49m\n\u001B[1;32m    111\u001B[0m \u001B[43m    \u001B[49m\u001B[43mdynamics\u001B[49m\u001B[43m,\u001B[49m\n\u001B[1;32m    112\u001B[0m \u001B[43m    \u001B[49m\u001B[43mstate\u001B[49m\u001B[43m,\u001B[49m\n\u001B[1;32m    113\u001B[0m \u001B[43m    \u001B[49m\u001B[43mstart_time\u001B[49m\u001B[43m,\u001B[49m\n\u001B[1;32m    114\u001B[0m \u001B[43m    \u001B[49m\u001B[43mend_time\u001B[49m\u001B[43m,\u001B[49m\n\u001B[1;32m    115\u001B[0m \u001B[43m    \u001B[49m\u001B[38;5;241;43m*\u001B[39;49m\u001B[38;5;241;43m*\u001B[39;49m\u001B[43mmsg\u001B[49m\u001B[43m[\u001B[49m\u001B[38;5;124;43m\"\u001B[39;49m\u001B[38;5;124;43mkwargs\u001B[39;49m\u001B[38;5;124;43m\"\u001B[39;49m\u001B[43m]\u001B[49m\u001B[43m,\u001B[49m\n\u001B[1;32m    116\u001B[0m \u001B[43m\u001B[49m\u001B[43m)\u001B[49m\n\u001B[1;32m    118\u001B[0m \u001B[38;5;28;01mif\u001B[39;00m next_interruption \u001B[38;5;129;01mis\u001B[39;00m \u001B[38;5;129;01mnot\u001B[39;00m \u001B[38;5;28;01mNone\u001B[39;00m:\n\u001B[1;32m    119\u001B[0m     dynamics, state \u001B[38;5;241m=\u001B[39m next_interruption\u001B[38;5;241m.\u001B[39mcallback(dynamics, state)\n",
      "File \u001B[0;32m~/GitRepo/venvs/chirho_diffeqpy_dev/lib/python3.11/site-packages/pyro/poutine/runtime.py:461\u001B[0m, in \u001B[0;36meffectful.<locals>._fn\u001B[0;34m(name, infer, obs, *args, **kwargs)\u001B[0m\n\u001B[1;32m    444\u001B[0m msg \u001B[38;5;241m=\u001B[39m Message(\n\u001B[1;32m    445\u001B[0m     \u001B[38;5;28mtype\u001B[39m\u001B[38;5;241m=\u001B[39m\u001B[38;5;28mtype\u001B[39m,\n\u001B[1;32m    446\u001B[0m     name\u001B[38;5;241m=\u001B[39mname,\n\u001B[0;32m   (...)\u001B[0m\n\u001B[1;32m    458\u001B[0m     infer\u001B[38;5;241m=\u001B[39minfer \u001B[38;5;28;01mif\u001B[39;00m infer \u001B[38;5;129;01mis\u001B[39;00m \u001B[38;5;129;01mnot\u001B[39;00m \u001B[38;5;28;01mNone\u001B[39;00m \u001B[38;5;28;01melse\u001B[39;00m {},\n\u001B[1;32m    459\u001B[0m )\n\u001B[1;32m    460\u001B[0m \u001B[38;5;66;03m# apply the stack and return its return value\u001B[39;00m\n\u001B[0;32m--> 461\u001B[0m \u001B[43mapply_stack\u001B[49m\u001B[43m(\u001B[49m\u001B[43mmsg\u001B[49m\u001B[43m)\u001B[49m\n\u001B[1;32m    462\u001B[0m \u001B[38;5;28;01mif\u001B[39;00m TYPE_CHECKING:\n\u001B[1;32m    463\u001B[0m     \u001B[38;5;28;01massert\u001B[39;00m msg[\u001B[38;5;124m\"\u001B[39m\u001B[38;5;124mvalue\u001B[39m\u001B[38;5;124m\"\u001B[39m] \u001B[38;5;129;01mis\u001B[39;00m \u001B[38;5;129;01mnot\u001B[39;00m \u001B[38;5;28;01mNone\u001B[39;00m\n",
      "File \u001B[0;32m~/GitRepo/venvs/chirho_diffeqpy_dev/lib/python3.11/site-packages/pyro/poutine/runtime.py:378\u001B[0m, in \u001B[0;36mapply_stack\u001B[0;34m(initial_msg)\u001B[0m\n\u001B[1;32m    375\u001B[0m \u001B[38;5;28;01mfor\u001B[39;00m frame \u001B[38;5;129;01min\u001B[39;00m \u001B[38;5;28mreversed\u001B[39m(stack):\n\u001B[1;32m    376\u001B[0m     pointer \u001B[38;5;241m=\u001B[39m pointer \u001B[38;5;241m+\u001B[39m \u001B[38;5;241m1\u001B[39m\n\u001B[0;32m--> 378\u001B[0m     \u001B[43mframe\u001B[49m\u001B[38;5;241;43m.\u001B[39;49m\u001B[43m_process_message\u001B[49m\u001B[43m(\u001B[49m\u001B[43mmsg\u001B[49m\u001B[43m)\u001B[49m\n\u001B[1;32m    380\u001B[0m     \u001B[38;5;28;01mif\u001B[39;00m msg[\u001B[38;5;124m\"\u001B[39m\u001B[38;5;124mstop\u001B[39m\u001B[38;5;124m\"\u001B[39m]:\n\u001B[1;32m    381\u001B[0m         \u001B[38;5;28;01mbreak\u001B[39;00m\n",
      "File \u001B[0;32m~/GitRepo/venvs/chirho_diffeqpy_dev/lib/python3.11/site-packages/pyro/poutine/messenger.py:189\u001B[0m, in \u001B[0;36mMessenger._process_message\u001B[0;34m(self, msg)\u001B[0m\n\u001B[1;32m    187\u001B[0m method \u001B[38;5;241m=\u001B[39m \u001B[38;5;28mgetattr\u001B[39m(\u001B[38;5;28mself\u001B[39m, \u001B[38;5;124mf\u001B[39m\u001B[38;5;124m\"\u001B[39m\u001B[38;5;124m_pyro_\u001B[39m\u001B[38;5;132;01m{\u001B[39;00mmsg[\u001B[38;5;124m'\u001B[39m\u001B[38;5;124mtype\u001B[39m\u001B[38;5;124m'\u001B[39m]\u001B[38;5;132;01m}\u001B[39;00m\u001B[38;5;124m\"\u001B[39m, \u001B[38;5;28;01mNone\u001B[39;00m)\n\u001B[1;32m    188\u001B[0m \u001B[38;5;28;01mif\u001B[39;00m method \u001B[38;5;129;01mis\u001B[39;00m \u001B[38;5;129;01mnot\u001B[39;00m \u001B[38;5;28;01mNone\u001B[39;00m:\n\u001B[0;32m--> 189\u001B[0m     \u001B[43mmethod\u001B[49m\u001B[43m(\u001B[49m\u001B[43mmsg\u001B[49m\u001B[43m)\u001B[49m\n",
      "File \u001B[0;32m~/GitRepo/chirho_diffeqpy/chirho_diffeqpy/handlers.py:129\u001B[0m, in \u001B[0;36mDiffEqPy._pyro_simulate_to_interruption\u001B[0;34m(self, msg)\u001B[0m\n\u001B[1;32m    121\u001B[0m \u001B[38;5;28;01mfrom\u001B[39;00m \u001B[38;5;21;01mchirho_diffeqpy\u001B[39;00m\u001B[38;5;21;01m.\u001B[39;00m\u001B[38;5;21;01minternals\u001B[39;00m \u001B[38;5;28;01mimport\u001B[39;00m diffeqdotjl_simulate_to_interruption\n\u001B[1;32m    123\u001B[0m (\n\u001B[1;32m    124\u001B[0m     (interruptions, dynamics, initial_state, start_time, end_time),\n\u001B[1;32m    125\u001B[0m     atemp_params,\n\u001B[1;32m    126\u001B[0m     kwargs,\n\u001B[1;32m    127\u001B[0m ) \u001B[38;5;241m=\u001B[39m \u001B[38;5;28mself\u001B[39m\u001B[38;5;241m.\u001B[39m_process_simulate_args_kwargs(msg)\n\u001B[0;32m--> 129\u001B[0m msg[\u001B[38;5;124m\"\u001B[39m\u001B[38;5;124mvalue\u001B[39m\u001B[38;5;124m\"\u001B[39m] \u001B[38;5;241m=\u001B[39m \u001B[43mdiffeqdotjl_simulate_to_interruption\u001B[49m\u001B[43m(\u001B[49m\n\u001B[1;32m    130\u001B[0m \u001B[43m    \u001B[49m\u001B[43minterruptions\u001B[49m\u001B[43m,\u001B[49m\n\u001B[1;32m    131\u001B[0m \u001B[43m    \u001B[49m\u001B[43mdynamics\u001B[49m\u001B[43m,\u001B[49m\n\u001B[1;32m    132\u001B[0m \u001B[43m    \u001B[49m\u001B[43minitial_state\u001B[49m\u001B[43m,\u001B[49m\n\u001B[1;32m    133\u001B[0m \u001B[43m    \u001B[49m\u001B[43mstart_time\u001B[49m\u001B[43m,\u001B[49m\n\u001B[1;32m    134\u001B[0m \u001B[43m    \u001B[49m\u001B[43mend_time\u001B[49m\u001B[43m,\u001B[49m\n\u001B[1;32m    135\u001B[0m \u001B[43m    \u001B[49m\u001B[43matemp_params\u001B[49m\u001B[38;5;241;43m=\u001B[39;49m\u001B[43matemp_params\u001B[49m\u001B[43m,\u001B[49m\n\u001B[1;32m    136\u001B[0m \u001B[43m    \u001B[49m\u001B[38;5;241;43m*\u001B[39;49m\u001B[38;5;241;43m*\u001B[39;49m\u001B[43mkwargs\u001B[49m\u001B[43m,\u001B[49m\n\u001B[1;32m    137\u001B[0m \u001B[43m\u001B[49m\u001B[43m)\u001B[49m\n\u001B[1;32m    138\u001B[0m msg[\u001B[38;5;124m\"\u001B[39m\u001B[38;5;124mdone\u001B[39m\u001B[38;5;124m\"\u001B[39m] \u001B[38;5;241m=\u001B[39m \u001B[38;5;28;01mTrue\u001B[39;00m\n",
      "File \u001B[0;32m~/GitRepo/chirho_diffeqpy/chirho_diffeqpy/internals.py:499\u001B[0m, in \u001B[0;36mdiffeqdotjl_simulate_to_interruption\u001B[0;34m(interruptions, dynamics, initial_state, start_time, end_time, atemp_params, **kwargs)\u001B[0m\n\u001B[1;32m    496\u001B[0m static_end_interruption \u001B[38;5;241m=\u001B[39m interruptions[static_time_min_idx]\n\u001B[1;32m    498\u001B[0m \u001B[38;5;28;01mif\u001B[39;00m \u001B[38;5;28mlen\u001B[39m(dynamic_interruptions) \u001B[38;5;241m==\u001B[39m \u001B[38;5;241m0\u001B[39m:\n\u001B[0;32m--> 499\u001B[0m     final_state \u001B[38;5;241m=\u001B[39m \u001B[43msimulate_point\u001B[49m\u001B[43m(\u001B[49m\n\u001B[1;32m    500\u001B[0m \u001B[43m        \u001B[49m\u001B[43mdynamics\u001B[49m\u001B[43m,\u001B[49m\n\u001B[1;32m    501\u001B[0m \u001B[43m        \u001B[49m\u001B[43minitial_state\u001B[49m\u001B[43m,\u001B[49m\n\u001B[1;32m    502\u001B[0m \u001B[43m        \u001B[49m\u001B[43mstart_time\u001B[49m\u001B[43m,\u001B[49m\n\u001B[1;32m    503\u001B[0m \u001B[43m        \u001B[49m\u001B[43mstatic_end_time\u001B[49m\u001B[43m,\u001B[49m\n\u001B[1;32m    504\u001B[0m \u001B[43m        \u001B[49m\u001B[43matemp_params\u001B[49m\u001B[38;5;241;43m=\u001B[39;49m\u001B[43matemp_params\u001B[49m\u001B[43m,\u001B[49m\n\u001B[1;32m    505\u001B[0m \u001B[43m        \u001B[49m\u001B[38;5;241;43m*\u001B[39;49m\u001B[38;5;241;43m*\u001B[39;49m\u001B[43mkwargs\u001B[49m\u001B[43m,\u001B[49m\n\u001B[1;32m    506\u001B[0m \u001B[43m    \u001B[49m\u001B[43m)\u001B[49m\n\u001B[1;32m    507\u001B[0m     \u001B[38;5;28;01mreturn\u001B[39;00m final_state, static_end_time, static_end_interruption\n\u001B[1;32m    509\u001B[0m initial_state \u001B[38;5;241m=\u001B[39m pre_broadcast_initial_state(dynamics, initial_state, atemp_params)\n",
      "File \u001B[0;32m~/GitRepo/venvs/chirho_diffeqpy_dev/lib/python3.11/site-packages/pyro/poutine/runtime.py:461\u001B[0m, in \u001B[0;36meffectful.<locals>._fn\u001B[0;34m(name, infer, obs, *args, **kwargs)\u001B[0m\n\u001B[1;32m    444\u001B[0m msg \u001B[38;5;241m=\u001B[39m Message(\n\u001B[1;32m    445\u001B[0m     \u001B[38;5;28mtype\u001B[39m\u001B[38;5;241m=\u001B[39m\u001B[38;5;28mtype\u001B[39m,\n\u001B[1;32m    446\u001B[0m     name\u001B[38;5;241m=\u001B[39mname,\n\u001B[0;32m   (...)\u001B[0m\n\u001B[1;32m    458\u001B[0m     infer\u001B[38;5;241m=\u001B[39minfer \u001B[38;5;28;01mif\u001B[39;00m infer \u001B[38;5;129;01mis\u001B[39;00m \u001B[38;5;129;01mnot\u001B[39;00m \u001B[38;5;28;01mNone\u001B[39;00m \u001B[38;5;28;01melse\u001B[39;00m {},\n\u001B[1;32m    459\u001B[0m )\n\u001B[1;32m    460\u001B[0m \u001B[38;5;66;03m# apply the stack and return its return value\u001B[39;00m\n\u001B[0;32m--> 461\u001B[0m \u001B[43mapply_stack\u001B[49m\u001B[43m(\u001B[49m\u001B[43mmsg\u001B[49m\u001B[43m)\u001B[49m\n\u001B[1;32m    462\u001B[0m \u001B[38;5;28;01mif\u001B[39;00m TYPE_CHECKING:\n\u001B[1;32m    463\u001B[0m     \u001B[38;5;28;01massert\u001B[39;00m msg[\u001B[38;5;124m\"\u001B[39m\u001B[38;5;124mvalue\u001B[39m\u001B[38;5;124m\"\u001B[39m] \u001B[38;5;129;01mis\u001B[39;00m \u001B[38;5;129;01mnot\u001B[39;00m \u001B[38;5;28;01mNone\u001B[39;00m\n",
      "File \u001B[0;32m~/GitRepo/venvs/chirho_diffeqpy_dev/lib/python3.11/site-packages/pyro/poutine/runtime.py:378\u001B[0m, in \u001B[0;36mapply_stack\u001B[0;34m(initial_msg)\u001B[0m\n\u001B[1;32m    375\u001B[0m \u001B[38;5;28;01mfor\u001B[39;00m frame \u001B[38;5;129;01min\u001B[39;00m \u001B[38;5;28mreversed\u001B[39m(stack):\n\u001B[1;32m    376\u001B[0m     pointer \u001B[38;5;241m=\u001B[39m pointer \u001B[38;5;241m+\u001B[39m \u001B[38;5;241m1\u001B[39m\n\u001B[0;32m--> 378\u001B[0m     \u001B[43mframe\u001B[49m\u001B[38;5;241;43m.\u001B[39;49m\u001B[43m_process_message\u001B[49m\u001B[43m(\u001B[49m\u001B[43mmsg\u001B[49m\u001B[43m)\u001B[49m\n\u001B[1;32m    380\u001B[0m     \u001B[38;5;28;01mif\u001B[39;00m msg[\u001B[38;5;124m\"\u001B[39m\u001B[38;5;124mstop\u001B[39m\u001B[38;5;124m\"\u001B[39m]:\n\u001B[1;32m    381\u001B[0m         \u001B[38;5;28;01mbreak\u001B[39;00m\n",
      "File \u001B[0;32m~/GitRepo/venvs/chirho_diffeqpy_dev/lib/python3.11/site-packages/pyro/poutine/messenger.py:189\u001B[0m, in \u001B[0;36mMessenger._process_message\u001B[0;34m(self, msg)\u001B[0m\n\u001B[1;32m    187\u001B[0m method \u001B[38;5;241m=\u001B[39m \u001B[38;5;28mgetattr\u001B[39m(\u001B[38;5;28mself\u001B[39m, \u001B[38;5;124mf\u001B[39m\u001B[38;5;124m\"\u001B[39m\u001B[38;5;124m_pyro_\u001B[39m\u001B[38;5;132;01m{\u001B[39;00mmsg[\u001B[38;5;124m'\u001B[39m\u001B[38;5;124mtype\u001B[39m\u001B[38;5;124m'\u001B[39m]\u001B[38;5;132;01m}\u001B[39;00m\u001B[38;5;124m\"\u001B[39m, \u001B[38;5;28;01mNone\u001B[39;00m)\n\u001B[1;32m    188\u001B[0m \u001B[38;5;28;01mif\u001B[39;00m method \u001B[38;5;129;01mis\u001B[39;00m \u001B[38;5;129;01mnot\u001B[39;00m \u001B[38;5;28;01mNone\u001B[39;00m:\n\u001B[0;32m--> 189\u001B[0m     \u001B[43mmethod\u001B[49m\u001B[43m(\u001B[49m\u001B[43mmsg\u001B[49m\u001B[43m)\u001B[49m\n",
      "File \u001B[0;32m~/GitRepo/chirho_diffeqpy/chirho_diffeqpy/handlers.py:98\u001B[0m, in \u001B[0;36mDiffEqPy._pyro_simulate_point\u001B[0;34m(self, msg)\u001B[0m\n\u001B[1;32m     92\u001B[0m \u001B[38;5;28;01mfrom\u001B[39;00m \u001B[38;5;21;01mchirho_diffeqpy\u001B[39;00m\u001B[38;5;21;01m.\u001B[39;00m\u001B[38;5;21;01minternals\u001B[39;00m \u001B[38;5;28;01mimport\u001B[39;00m diffeqdotjl_simulate_point\n\u001B[1;32m     94\u001B[0m (dynamics, initial_state, start_time, end_time), atemp_params, kwargs \u001B[38;5;241m=\u001B[39m (\n\u001B[1;32m     95\u001B[0m     \u001B[38;5;28mself\u001B[39m\u001B[38;5;241m.\u001B[39m_process_simulate_args_kwargs(msg)\n\u001B[1;32m     96\u001B[0m )\n\u001B[0;32m---> 98\u001B[0m msg[\u001B[38;5;124m\"\u001B[39m\u001B[38;5;124mvalue\u001B[39m\u001B[38;5;124m\"\u001B[39m] \u001B[38;5;241m=\u001B[39m \u001B[43mdiffeqdotjl_simulate_point\u001B[49m\u001B[43m(\u001B[49m\n\u001B[1;32m     99\u001B[0m \u001B[43m    \u001B[49m\u001B[43mdynamics\u001B[49m\u001B[43m,\u001B[49m\n\u001B[1;32m    100\u001B[0m \u001B[43m    \u001B[49m\u001B[43minitial_state\u001B[49m\u001B[43m,\u001B[49m\n\u001B[1;32m    101\u001B[0m \u001B[43m    \u001B[49m\u001B[43mstart_time\u001B[49m\u001B[43m,\u001B[49m\n\u001B[1;32m    102\u001B[0m \u001B[43m    \u001B[49m\u001B[43mend_time\u001B[49m\u001B[43m,\u001B[49m\n\u001B[1;32m    103\u001B[0m \u001B[43m    \u001B[49m\u001B[43matemp_params\u001B[49m\u001B[38;5;241;43m=\u001B[39;49m\u001B[43matemp_params\u001B[49m\u001B[43m,\u001B[49m\n\u001B[1;32m    104\u001B[0m \u001B[43m    \u001B[49m\u001B[38;5;241;43m*\u001B[39;49m\u001B[38;5;241;43m*\u001B[39;49m\u001B[43mkwargs\u001B[49m\u001B[43m,\u001B[49m\n\u001B[1;32m    105\u001B[0m \u001B[43m\u001B[49m\u001B[43m)\u001B[49m\n\u001B[1;32m    106\u001B[0m msg[\u001B[38;5;124m\"\u001B[39m\u001B[38;5;124mdone\u001B[39m\u001B[38;5;124m\"\u001B[39m] \u001B[38;5;241m=\u001B[39m \u001B[38;5;28;01mTrue\u001B[39;00m\n",
      "File \u001B[0;32m~/GitRepo/chirho_diffeqpy/chirho_diffeqpy/internals.py:573\u001B[0m, in \u001B[0;36mdiffeqdotjl_simulate_point\u001B[0;34m(dynamics, initial_state, start_time, end_time, atemp_params, **kwargs)\u001B[0m\n\u001B[1;32m    564\u001B[0m \u001B[38;5;28;01mdef\u001B[39;00m \u001B[38;5;21mdiffeqdotjl_simulate_point\u001B[39m(\n\u001B[1;32m    565\u001B[0m     dynamics: PureDynamics[np\u001B[38;5;241m.\u001B[39mndarray],\n\u001B[1;32m    566\u001B[0m     initial_state: State[torch\u001B[38;5;241m.\u001B[39mTensor],\n\u001B[0;32m   (...)\u001B[0m\n\u001B[1;32m    570\u001B[0m     \u001B[38;5;241m*\u001B[39m\u001B[38;5;241m*\u001B[39mkwargs,\n\u001B[1;32m    571\u001B[0m ) \u001B[38;5;241m-\u001B[39m\u001B[38;5;241m>\u001B[39m State[torch\u001B[38;5;241m.\u001B[39mTensor]:\n\u001B[1;32m    572\u001B[0m     timespan \u001B[38;5;241m=\u001B[39m torch\u001B[38;5;241m.\u001B[39mstack((start_time, end_time))\n\u001B[0;32m--> 573\u001B[0m     requested_trajectory, final_state, end_t \u001B[38;5;241m=\u001B[39m \u001B[43m_diffeqdotjl_ode_simulate_inner\u001B[49m\u001B[43m(\u001B[49m\n\u001B[1;32m    574\u001B[0m \u001B[43m        \u001B[49m\u001B[43mdynamics\u001B[49m\u001B[43m,\u001B[49m\u001B[43m \u001B[49m\u001B[43minitial_state\u001B[49m\u001B[43m,\u001B[49m\u001B[43m \u001B[49m\u001B[43mtimespan\u001B[49m\u001B[43m,\u001B[49m\u001B[43m \u001B[49m\u001B[43matemp_params\u001B[49m\u001B[38;5;241;43m=\u001B[39;49m\u001B[43matemp_params\u001B[49m\u001B[43m,\u001B[49m\u001B[43m \u001B[49m\u001B[38;5;241;43m*\u001B[39;49m\u001B[38;5;241;43m*\u001B[39;49m\u001B[43mkwargs\u001B[49m\n\u001B[1;32m    575\u001B[0m \u001B[43m    \u001B[49m\u001B[43m)\u001B[49m\n\u001B[1;32m    577\u001B[0m     \u001B[38;5;28;01mreturn\u001B[39;00m final_state\n",
      "File \u001B[0;32m~/GitRepo/chirho_diffeqpy/chirho_diffeqpy/internals.py:426\u001B[0m, in \u001B[0;36m_diffeqdotjl_ode_simulate_inner\u001B[0;34m(dynamics, initial_state, timespan, atemp_params, _diffeqdotjl_callback, **kwargs)\u001B[0m\n\u001B[1;32m    422\u001B[0m end_t \u001B[38;5;241m=\u001B[39m solve_result[\u001B[38;5;241m-\u001B[39m\u001B[38;5;241m1\u001B[39m]\n\u001B[1;32m    424\u001B[0m \u001B[38;5;66;03m# Unflatten the trajectory.\u001B[39;00m\n\u001B[1;32m    425\u001B[0m \u001B[38;5;66;03m# return _unflatten_state(flat_traj, initial_state, to_traj=True)\u001B[39;00m\n\u001B[0;32m--> 426\u001B[0m traj \u001B[38;5;241m=\u001B[39m \u001B[43m_unflatten_mapping\u001B[49m\u001B[43m(\u001B[49m\n\u001B[1;32m    427\u001B[0m \u001B[43m    \u001B[49m\u001B[43mflattened_mapping\u001B[49m\u001B[38;5;241;43m=\u001B[39;49m\u001B[43mflat_traj\u001B[49m\u001B[43m,\u001B[49m\n\u001B[1;32m    428\u001B[0m \u001B[43m    \u001B[49m\u001B[43mshaped_mapping_for_reference\u001B[49m\u001B[38;5;241;43m=\u001B[39;49m\u001B[43minitial_state\u001B[49m\u001B[43m,\u001B[49m\n\u001B[1;32m    429\u001B[0m \u001B[43m    \u001B[49m\u001B[43mtraj_length\u001B[49m\u001B[38;5;241;43m=\u001B[39;49m\u001B[38;5;28;43mlen\u001B[39;49m\u001B[43m(\u001B[49m\u001B[43mtimespan\u001B[49m\u001B[43m)\u001B[49m\n\u001B[1;32m    430\u001B[0m \u001B[43m    \u001B[49m\u001B[38;5;241;43m+\u001B[39;49m\u001B[43m \u001B[49m\u001B[38;5;241;43m1\u001B[39;49m\u001B[43m,\u001B[49m\u001B[43m  \u001B[49m\u001B[38;5;66;43;03m# because augmented the timespan with the end state.\u001B[39;49;00m\n\u001B[1;32m    431\u001B[0m \u001B[43m\u001B[49m\u001B[43m)\u001B[49m\n\u001B[1;32m    433\u001B[0m requested_traj \u001B[38;5;241m=\u001B[39m {k: v[\u001B[38;5;241m.\u001B[39m\u001B[38;5;241m.\u001B[39m\u001B[38;5;241m.\u001B[39m, :\u001B[38;5;241m-\u001B[39m\u001B[38;5;241m1\u001B[39m] \u001B[38;5;28;01mfor\u001B[39;00m k, v \u001B[38;5;129;01min\u001B[39;00m traj\u001B[38;5;241m.\u001B[39mitems()}\n\u001B[1;32m    434\u001B[0m final_state \u001B[38;5;241m=\u001B[39m {k: v[\u001B[38;5;241m.\u001B[39m\u001B[38;5;241m.\u001B[39m\u001B[38;5;241m.\u001B[39m, \u001B[38;5;241m-\u001B[39m\u001B[38;5;241m1\u001B[39m] \u001B[38;5;28;01mfor\u001B[39;00m k, v \u001B[38;5;129;01min\u001B[39;00m traj\u001B[38;5;241m.\u001B[39mitems()}\n",
      "File \u001B[0;32m~/GitRepo/chirho_diffeqpy/chirho_diffeqpy/internals.py:289\u001B[0m, in \u001B[0;36m_unflatten_mapping\u001B[0;34m(flattened_mapping, shaped_mapping_for_reference, traj_length)\u001B[0m\n\u001B[1;32m    284\u001B[0m \u001B[38;5;28;01mif\u001B[39;00m traj_length \u001B[38;5;129;01mis\u001B[39;00m \u001B[38;5;129;01mnot\u001B[39;00m \u001B[38;5;28;01mNone\u001B[39;00m:\n\u001B[1;32m    285\u001B[0m     \u001B[38;5;66;03m# If this is a trajectory of states, the dimension following the original shape's state will be time,\u001B[39;00m\n\u001B[1;32m    286\u001B[0m     \u001B[38;5;66;03m#  and because we know the rest of the shape we can auto-detect its size with -1.\u001B[39;00m\n\u001B[1;32m    287\u001B[0m     shape \u001B[38;5;241m+\u001B[39m\u001B[38;5;241m=\u001B[39m (traj_length,)\n\u001B[0;32m--> 289\u001B[0m sv \u001B[38;5;241m=\u001B[39m \u001B[43mflattened_mapping\u001B[49m\u001B[43m[\u001B[49m\u001B[43m:\u001B[49m\u001B[43m \u001B[49m\u001B[43mprod\u001B[49m\u001B[43m(\u001B[49m\u001B[43mshape\u001B[49m\u001B[43m)\u001B[49m\u001B[43m]\u001B[49m\u001B[38;5;241;43m.\u001B[39;49m\u001B[43mreshape\u001B[49m\u001B[43m(\u001B[49m\u001B[43mshape\u001B[49m\u001B[43m)\u001B[49m\n\u001B[1;32m    291\u001B[0m mapping_to_return[v] \u001B[38;5;241m=\u001B[39m sv\n\u001B[1;32m    293\u001B[0m \u001B[38;5;66;03m# Slice so that only the remaining elements are left.\u001B[39;00m\n",
      "\u001B[0;31mKeyboardInterrupt\u001B[0m: "
     ]
    }
   ],
   "source": [
    "mesh31 = likelihood_mesh_2fish(\n",
    "    condition(\n",
    "        low_noise_experiment,\n",
    "        data={\"polarization\": pol31_noisy}\n",
    "    ),\n",
    "    n=50\n",
    ")\n",
    "\n",
    "mesh13 = likelihood_mesh_2fish(\n",
    "    condition(\n",
    "        low_noise_experiment,\n",
    "        data={\"polarization\": pol13_noisy}\n",
    "    ),\n",
    "    n=50\n",
    ")"
   ],
   "metadata": {
    "collapsed": false,
    "ExecuteTime": {
     "end_time": "2024-09-23T13:54:50.027647Z",
     "start_time": "2024-09-23T13:54:45.887896Z"
    }
   },
   "id": "59e1ad0f660ef415",
   "execution_count": 14
  },
  {
   "cell_type": "code",
   "outputs": [],
   "source": [
    "samples_31 = sample_from_mesh(mesh31, 1000, noise=0.08)\n",
    "samples_13 = sample_from_mesh(mesh13, 1000, noise=0.08)\n",
    "\n",
    "posteriors = {\n",
    "    fr\"$\\alpha$ = {copy_coefs13[0]}, $\\beta$ ={copy_coefs13[1]}\" : {\n",
    "        \"samples\" : samples_13,\n",
    "        \"true_params\" : copy_coefs13\n",
    "    },\n",
    "    fr\"$\\alpha$ = {copy_coefs31[0]}, $\\beta$ ={copy_coefs31[1]}\" : {\n",
    "        \"samples\" : samples_31,\n",
    "        \"true_params\" : copy_coefs31\n",
    "    }\n",
    "}"
   ],
   "metadata": {
    "collapsed": false,
    "ExecuteTime": {
     "start_time": "2024-09-23T13:54:50.026504Z"
    }
   },
   "id": "1df777364e3a2793",
   "execution_count": null
  },
  {
   "cell_type": "code",
   "outputs": [],
   "source": [
    "# NO CHANGE\n",
    "XLIM = (0., 7.)\n",
    "YLIM = (0., 7.)\n",
    "\n",
    "def plot_samples(posteriors : dict):\n",
    "    fig, ax = plt.subplots(1,len(posteriors),figsize=(4*len(posteriors),4))\n",
    "    fig.suptitle(\"Posterior Samples\",fontsize=20)\n",
    "\n",
    "    for i, label in enumerate(posteriors.keys()):\n",
    "        samples = posteriors[label][\"samples\"] \n",
    "        ax[i].scatter(samples[:, 0], samples[:, 1], s=0.2)\n",
    "        ax[i].axvline(posteriors[label][\"true_params\"][0],linestyle=\"--\", color='r')\n",
    "        ax[i].axhline(posteriors[label][\"true_params\"][1],linestyle=\"--\", color='r')\n",
    "        ax[i].set_xlabel(fr\"$\\alpha$\", fontsize=15)\n",
    "        ax[i].set_ylabel(fr\"$\\beta$\", fontsize=15)\n",
    "        ax[i].set_title(label, fontsize=15)\n",
    "        ax[i].set_xlim(*XLIM)\n",
    "        ax[i].set_ylim(*YLIM)\n",
    "    fig.tight_layout()"
   ],
   "metadata": {
    "collapsed": false,
    "ExecuteTime": {
     "end_time": "2024-09-23T13:54:50.030197Z",
     "start_time": "2024-09-23T13:54:50.027900Z"
    }
   },
   "id": "c0562df293f34176",
   "execution_count": null
  },
  {
   "cell_type": "code",
   "outputs": [],
   "source": [
    "plot_samples(posteriors)"
   ],
   "metadata": {
    "collapsed": false,
    "ExecuteTime": {
     "start_time": "2024-09-23T13:54:50.029060Z"
    }
   },
   "id": "7fcb1f2304e48cef",
   "execution_count": null
  },
  {
   "cell_type": "markdown",
   "source": [
    "# Introducing a \"virtual\" fish in the experiment"
   ],
   "metadata": {
    "collapsed": false
   },
   "id": "1f7e8754c9d50d17"
  },
  {
   "cell_type": "markdown",
   "source": [
    "Virtual reality (VR) paradigms that allow scientists to manipulate interactions between animals and their enviroments are a powerful tool for studying animal behavior.\n",
    "\n",
    " In the context of fish, some species that exhibit vision-based schooling behavior are known to respond to visual stimuli that resemble the shape and movement patterns of schooling fish [1]. \n",
    "\n",
    "Therefore, we consider here an experimental intervention with a \"virtual\" fish that elicits schooling behavior in the two real fish. \n",
    "\n",
    "For simplicity, let us assume that the virtual fish swims with a prescribed trajectory $\\theta_{\\mathrm{vf}}(t)$ [2]. \n",
    "\n",
    "We have,\n",
    "$$\\frac{d\\theta_{\\mathrm{vf}}}{dt} = f(t)$$\n",
    "$$\\frac{d\\theta_1}{dt} = \\alpha (\\theta_2 - \\theta_1) + \\alpha (\\theta_{\\mathrm{vf}} - \\theta_1), \\quad\n",
    "\\frac{d\\theta_2}{dt} = \\beta (\\theta_1 - \\theta_2) + \\beta (\\theta_{\\mathrm{vf}} - \\theta_2) $$\n",
    "\n",
    "We expect the presence of the virtual fish to alter the polarization dynamics of the system. Let us write down an analytical solution for the dynamics. \n",
    "\n",
    "We start by writing a general solution to homogenous system:\n",
    "\n",
    "$$\\frac{d\\theta_1}{dt} = \\alpha (\\theta_2 - 2\\theta_1) \\quad\n",
    "\\frac{d\\theta_2}{dt} = \\beta (\\theta_1 - 2\\theta_2) $$\n",
    "\n",
    "The general homogeneous solution is,\n",
    "$$\\theta_{1,2}^H(t) = \\mathrm{e}^{-(\\alpha+\\beta)t}\\left(A_{1,2}\\, \\mathrm{e}^{t\\sqrt{\\alpha^2+\\beta^2-\\alpha\\beta}} + B_{1,2}\\, \\mathrm{e}^{-t\\sqrt{\\alpha^2+\\beta^2-\\alpha\\beta}} \\right)$$\n",
    "\n",
    "where $A_{1,2}$ and $B_{1.2}$ are constants that depend on the initial conditions $\\theta_{1,2}(0)$.\n",
    "\n",
    "Suppose we choose a sinusoidal virtual fish stimulus, i.e. $\\theta_{\\mathrm{vf}}(t) = C \\mathrm{sin}\\left(\\omega t \\right)$. \n",
    "\n",
    "We can find a particular solution for the inhomogenous system by trying an *Ansatz*. \n",
    "$$\\theta_{1,2}^P(t) = L_{1,2}\\mathrm{sin}(\\omega t) + K_{1,2}\\mathrm{cos}(\\omega t)$$\n",
    "\n",
    "The constants $L_{1,2}$ and $K_{1,2}$ can be found by substituting $\\theta_{1,2}^P(t)$ in the full system of ODEs and matching coefficients of cosine and sine terms. This can be formulated as solving a linear system of equations. Whether a solution exists depends on the choice of $ \\alpha,\\beta, \\omega, C $. \n",
    "\n",
    "Finally, a full solution can be written as, \n",
    "\n",
    "$$\\theta_{1,2}(t) =\\theta_{1,2}^H(t) + \\theta_{1,2}^P(t) $$\n",
    "\n",
    "Which implies that,\n",
    "$$\\Delta\\theta(t) = \\mathrm{e}^{-(\\alpha+\\beta)t}\\left(\\Delta A \\, \\mathrm{e}^{t\\sqrt{\\alpha^2+\\beta^2-\\alpha\\beta}} + \\Delta B \\, \\mathrm{e}^{-t\\sqrt{\\alpha^2+\\beta^2-\\alpha\\beta}} \\right) + \\Delta L \\mathrm{sin}(\\omega t) + \\Delta K \\mathrm{cos}(\\omega t) $$\n",
    "\n",
    "We see that there is non-trivial depends of $\\Delta\\theta$ (and thus, $|\\vec{m}|$) on the individual copy parameters ($\\alpha$, $\\beta$) which may allow for the identification of the previous non-identified copy coefficients from macroscopic observations. We expect that the extent of identification would depend on the details of the experiment, namely, the initial conditions and virtual fish trajectory parameters. \n",
    "\n",
    "Let us see an example of this.\n",
    "\n",
    "Notes :\n",
    "1. Development of neural circuits for social motion perception in schooling fish. Zada, David et al. Current Biology, Volume 34, Issue 15, 3380 - 3391.e5\n",
    "2. Note that this assumption is for illustration purposes only: the experimental design pipeline described here does not require a closed form description of the virtual trajectory -- for example, the trajectory of the virtual fish can be the output of a neural network that takes in the current polarization computes a response in real time, in a closed loop manner.\n"
   ],
   "metadata": {
    "collapsed": false
   },
   "id": "520d23d87e29181a"
  },
  {
   "cell_type": "markdown",
   "source": [
    "### Virtual Fish Experiments"
   ],
   "metadata": {
    "collapsed": false
   },
   "id": "12ea42a596e4277"
  },
  {
   "cell_type": "code",
   "outputs": [],
   "source": [
    "# NO CHANGE\n",
    "def sinusoidal_virtual_fish(state, atemp_params):\n",
    "    \n",
    "    frequency = atemp_params['frequency']\n",
    "    amplitude = atemp_params['amplitude']\n",
    "    phase = atemp_params['phase']\n",
    "    t = state['t']\n",
    "    \n",
    "    return dict(\n",
    "        vfish_theta=amplitude * frequency * cos(frequency * t + phase)\n",
    "    )"
   ],
   "metadata": {
    "collapsed": false,
    "ExecuteTime": {
     "end_time": "2024-09-23T13:54:50.168872Z",
     "start_time": "2024-09-23T13:54:50.030642Z"
    }
   },
   "id": "48506dd0b5fc9cdf",
   "execution_count": null
  },
  {
   "cell_type": "code",
   "outputs": [],
   "source": [
    "# NO CHANGE\n",
    "# Simple sinusoidal virtual fish.\n",
    "exemplar_sinusoid_vfish = VirtualFishContext(\n",
    "    sinusoidal_virtual_fish,\n",
    "    initial_state=dict(\n",
    "        vfish_theta=torch.tensor(0.0)\n",
    "    ),\n",
    "    atemp_params=dict(\n",
    "        frequency=torch.tensor(1.),\n",
    "        amplitude=torch.tensor(torch.pi),\n",
    "        phase=torch.tensor(0.)\n",
    "    )\n",
    ")"
   ],
   "metadata": {
    "collapsed": false,
    "ExecuteTime": {
     "start_time": "2024-09-23T13:54:50.031684Z"
    }
   },
   "id": "6f905f5314083eb2",
   "execution_count": null
  },
  {
   "cell_type": "code",
   "outputs": [],
   "source": [
    "# MED_NOISE = 0.02\n",
    "low_noise_experiment = partial(\n",
    "    mesoscopic_experiment_model,\n",
    "    num_fish=2,\n",
    "    # mesoscopioc_noise=MED_NOISE,\n",
    "    mesoscopioc_noise=LOW_NOISE,\n",
    "    experimental_context=exemplar_sinusoid_vfish,\n",
    ")\n",
    "\n",
    "with pyro.condition(data={\"copy_coefs\": copy_coefs31}):\n",
    "    traj31_w_vf, pol31_w_vf = low_noise_experiment()\n",
    "\n",
    "with pyro.condition(data={\"copy_coefs\": copy_coefs13}):\n",
    "    traj13_w_vf, pol13_w_vf = low_noise_experiment()"
   ],
   "metadata": {
    "collapsed": false,
    "ExecuteTime": {
     "start_time": "2024-09-23T13:54:50.032928Z"
    }
   },
   "id": "993c7470aa244fa7",
   "execution_count": null
  },
  {
   "cell_type": "code",
   "outputs": [],
   "source": [
    "trajectories= {\n",
    "    rf\"$\\alpha$ = {copy_coefs13[0]}, $\\beta$ ={copy_coefs13[1]}\" : traj13_w_vf,\n",
    "    rf\"$\\alpha$ = {copy_coefs31[0]}, $\\beta$ ={copy_coefs31[1]}\"  : traj31_w_vf\n",
    "}\n",
    "\n",
    "polarizations= {\n",
    "    rf\"$\\alpha$ = {copy_coefs13[0]}, $\\beta$ ={copy_coefs13[1]}\" : pol13_w_vf,\n",
    "    rf\"$\\alpha$ = {copy_coefs31[0]}, $\\beta$ ={copy_coefs31[1]}\"  : pol31_w_vf\n",
    "}\n",
    "\n",
    "plot_experiments(trajectories,polarizations)\n"
   ],
   "metadata": {
    "collapsed": false,
    "ExecuteTime": {
     "start_time": "2024-09-23T13:54:50.034242Z"
    }
   },
   "id": "bc1bf4723d4f9f7f",
   "execution_count": null
  },
  {
   "cell_type": "code",
   "outputs": [],
   "source": [
    "mesh31_w_vf = likelihood_mesh_2fish(\n",
    "    condition(\n",
    "        low_noise_experiment,\n",
    "        data={\"polarization\": pol31_w_vf}\n",
    "    ),\n",
    "    n=50\n",
    ")\n",
    "\n",
    "mesh13_w_vf = likelihood_mesh_2fish(\n",
    "    condition(\n",
    "        low_noise_experiment,\n",
    "        data={\"polarization\": pol13_w_vf}\n",
    "    ),\n",
    "    n=50\n",
    ")\n",
    "\n",
    "samples_31_w_vf = sample_from_mesh(mesh31_w_vf, 1000, noise=0.08)\n",
    "samples_13_w_vf = sample_from_mesh(mesh13_w_vf, 1000, noise=0.08)\n",
    "\n",
    "posteriors = {\n",
    "    fr\"$\\alpha$ = {copy_coefs13[0]}, $\\beta$ ={copy_coefs13[1]}\" : {\n",
    "        \"samples\" : samples_13_w_vf,\n",
    "        \"true_params\" : copy_coefs13\n",
    "    },\n",
    "    fr\"$\\alpha$ = {copy_coefs31[0]}, $\\beta$ ={copy_coefs31[1]}\" : {\n",
    "        \"samples\" : samples_31_w_vf,\n",
    "        \"true_params\" : copy_coefs31\n",
    "    }\n",
    "}\n",
    "\n",
    "plot_samples(posteriors)"
   ],
   "metadata": {
    "collapsed": false,
    "ExecuteTime": {
     "start_time": "2024-09-23T13:54:50.035320Z"
    }
   },
   "id": "4afd94a9db1bc462",
   "execution_count": null
  },
  {
   "cell_type": "markdown",
   "source": [
    "##### Identified Copy Coefficients\n",
    "Indeed, the virtual fish experiment can uniquely identify the unknown copy coefficients. Thus far, however, we've been operating in an unrealistic low-noise regime for illustration purposes. In practice, the fish interactions are not deterministic and the measurements are often noisy. We're using a deterministic ODE here, so we'll focus on adding noise to the measurements to capture this fuzziness. "
   ],
   "metadata": {
    "collapsed": false
   },
   "id": "45aaf82b8140e6ee"
  },
  {
   "cell_type": "markdown",
   "source": [
    "# Experimental Design\n",
    "\n",
    "Virtual fish experiments can help identify otherwise non-identified parameters, but in practical noisy settings, some experiments are more *efficient* in recovering that information than others. To start, let's consider two virtual fish trajectories — one emulating a low frequency sinusoid starting aligned with one of the fish, and the other with a high frequency sinusoid starting \"between\" the two fish. We'll then explore how well they differentiate the copy coefficients of individual fish."
   ],
   "metadata": {
    "collapsed": false
   },
   "id": "1a89bb3bc8e298ab"
  },
  {
   "cell_type": "code",
   "outputs": [],
   "source": [
    "# <Virtual Fish Experiment A>\n",
    "virtual_fish_A = VirtualFishContext(\n",
    "    sinusoidal_virtual_fish,\n",
    "    initial_state=dict(\n",
    "        vfish_theta=torch.tensor(0.0)\n",
    "    ),\n",
    "    atemp_params=dict(\n",
    "        frequency=torch.tensor(0.5),\n",
    "        amplitude=torch.tensor(torch.pi),\n",
    "        phase=torch.tensor(0.)\n",
    "    )\n",
    ")\n",
    "\n",
    "vfish_experiment_A = partial(\n",
    "    mesoscopic_experiment_model,\n",
    "    num_fish=2,\n",
    "    mesoscopioc_noise=LOW_NOISE,\n",
    "    experimental_context=virtual_fish_A,\n",
    ")\n",
    "# </Virtual Fish Experiment A>\n",
    "\n",
    "# <Virtual Fish Experiment B>\n",
    "virtual_fish_B = VirtualFishContext(\n",
    "    sinusoidal_virtual_fish,\n",
    "    initial_state=dict(\n",
    "        vfish_theta=torch.tensor(torch.pi/2.)\n",
    "    ),\n",
    "    atemp_params=dict(\n",
    "        frequency=torch.tensor(2.0),\n",
    "        amplitude=torch.tensor(torch.pi),\n",
    "        phase=torch.tensor(0.)\n",
    "    )\n",
    ")\n",
    "\n",
    "vfish_experiment_B = partial(\n",
    "    mesoscopic_experiment_model,\n",
    "    num_fish=2,\n",
    "    mesoscopioc_noise=LOW_NOISE,\n",
    "    experimental_context=virtual_fish_B,\n",
    ")\n",
    "# </Virtual Fish Experiment B>"
   ],
   "metadata": {
    "collapsed": false,
    "ExecuteTime": {
     "start_time": "2024-09-23T13:54:50.036373Z"
    }
   },
   "id": "d0c3620e5cd36b0e",
   "execution_count": null
  },
  {
   "cell_type": "code",
   "outputs": [],
   "source": [
    "def plot_single_trajectory(ax, trajectory):\n",
    "    ax.plot(trajectory['thetas'].detach().numpy().T)\n",
    "    if 'vfish_theta' in trajectory:\n",
    "        ax.plot(trajectory['vfish_theta'].detach().numpy(), label='vfish_theta', linestyle=\"--\")"
   ],
   "metadata": {
    "collapsed": false,
    "ExecuteTime": {
     "start_time": "2024-09-23T13:54:50.037457Z"
    }
   },
   "id": "c16a3361096a2528",
   "execution_count": null
  },
  {
   "cell_type": "code",
   "outputs": [],
   "source": [
    "def simulate_and_plot_3113_experiment(experiment, legend=False):\n",
    "    with pyro.condition(data={\"copy_coefs\": torch.tensor([3., 1.])}):\n",
    "        traj31, pol31 = experiment()\n",
    "    \n",
    "    with pyro.condition(data={\"copy_coefs\": torch.tensor([1., 3.])}):\n",
    "        traj13, pol13 = experiment()\n",
    "    \n",
    "    fig, axs = plt.subplots(1, 3, figsize=(12, 4))\n",
    "    axs[0].set_title(\"Polarizations\")\n",
    "    axs[0].plot(pol31.detach().numpy(), label=\"[3,1]\")\n",
    "    axs[0].plot(pol13.detach().numpy(), label=\"[1,3]\")\n",
    "    \n",
    "    axs[1].set_title(\"Trajectories [3,1]\")\n",
    "    plot_single_trajectory(axs[1], traj31)\n",
    "    \n",
    "    axs[2].set_title(\"Trajectories [1,3]\")\n",
    "    plot_single_trajectory(axs[2], traj13)\n",
    "    \n",
    "    if legend:\n",
    "        axs[2].legend([\"Fish 1\", \"Fish 2\", \"Virtual Fish\"], loc='lower right')\n",
    "    \n",
    "    plt.tight_layout()"
   ],
   "metadata": {
    "collapsed": false,
    "ExecuteTime": {
     "start_time": "2024-09-23T13:54:50.038815Z"
    }
   },
   "id": "ebc1ace715574ddd",
   "execution_count": null
  },
  {
   "cell_type": "markdown",
   "source": [
    "### A Good Experiment Can Differentiate Competing Hypotheses\n",
    "Without the virtual fish, the polarization data was identical for the competing copy coefficient hypotheses. With the virtual fish, we start to see some disambiguation. Different virtual fish trajectories, however, afford different degrees of differentiation. In this setting, it appears that the high frequency trajectory with a misaligned start induces a greater difference in the polarization data between the two hypotheses. This implies that it should be better at identifying the right one."
   ],
   "metadata": {
    "collapsed": false
   },
   "id": "29a784126db3806e"
  },
  {
   "cell_type": "code",
   "outputs": [],
   "source": [
    "simulate_and_plot_3113_experiment(vfish_experiment_A, legend=True)\n",
    "plt.suptitle(\"Virtual Fish Experiment A\")\n",
    "simulate_and_plot_3113_experiment(vfish_experiment_B)\n",
    "plt.suptitle(\"Virtual Fish Experiment B\")"
   ],
   "metadata": {
    "collapsed": false,
    "ExecuteTime": {
     "start_time": "2024-09-23T13:54:50.039966Z"
    }
   },
   "id": "9f694c156ddd1477",
   "execution_count": null
  },
  {
   "cell_type": "markdown",
   "source": [
    "### Noise in Observations\n",
    "Higher differentiation becomes more important as our observations become more noisy. So far, we've assumed a low-noise regime that effectively rendered our scientific question a deterministic inverse problem — any differentiation over competing hypotheses was sufficient to identify the correct one. Practically, however, experiments involve noise that can dilute our conclusions. In this setting, it becomes clear that some experiments are better than others, even when the correct hypothesis is *technically* identifiable from experimental data.\n",
    "\n",
    "Let's run experiments A and B again, but with higher observation noise. Note that, because we're using a deterministic system of ODEs, this noise is being added to the polarization data, but should still be sufficient to qualitatively capture the differences in experimental efficiency.  "
   ],
   "metadata": {
    "collapsed": false
   },
   "id": "2eef697991ac9776"
  },
  {
   "cell_type": "code",
   "outputs": [],
   "source": [
    "HIGH_NOISE = 0.02\n",
    "\n",
    "vfish_experiment_A_noise = partial(\n",
    "    mesoscopic_experiment_model,\n",
    "    num_fish=2,\n",
    "    mesoscopioc_noise=HIGH_NOISE,\n",
    "    experimental_context=virtual_fish_A,\n",
    ")\n",
    "\n",
    "vfish_experiment_B_noise = partial(\n",
    "    mesoscopic_experiment_model,\n",
    "    num_fish=2,\n",
    "    mesoscopioc_noise=HIGH_NOISE,\n",
    "    experimental_context=virtual_fish_B,\n",
    ")"
   ],
   "metadata": {
    "collapsed": false,
    "ExecuteTime": {
     "start_time": "2024-09-23T13:54:50.041032Z"
    }
   },
   "id": "9e2d077fc31468c1",
   "execution_count": null
  },
  {
   "cell_type": "code",
   "outputs": [],
   "source": [
    "simulate_and_plot_3113_experiment(vfish_experiment_A_noise)\n",
    "simulate_and_plot_3113_experiment(vfish_experiment_B_noise)"
   ],
   "metadata": {
    "collapsed": false,
    "ExecuteTime": {
     "start_time": "2024-09-23T13:54:50.042126Z"
    }
   },
   "id": "901b7fefd6bba3c",
   "execution_count": null
  },
  {
   "cell_type": "markdown",
   "source": [
    "### Posterior Inference on Simulated Experimental Results\n",
    "This noise profile, unsurprisingly, makes it more difficult to read off the experimental power of each virtual fish trajectory. We can, however, use the posterior inference machinery we've developed to explore the posterior distributions that would be induced over our competing hypotheses. Now, let's generate data from our two hypotheses and compare the posterior distributions over the latent copy coefficients."
   ],
   "metadata": {
    "collapsed": false
   },
   "id": "40074eaa6f5aa835"
  },
  {
   "cell_type": "code",
   "outputs": [],
   "source": [
    "# Generate data from the two hypotheses according to our model of experiment A.\n",
    "with condition(data={\"copy_coefs\": torch.tensor([3., 1.])}):\n",
    "    pol31_A_traj, pol31_A_noise = vfish_experiment_A_noise()\n",
    "\n",
    "with condition(data={\"copy_coefs\": torch.tensor([1., 3.])}):\n",
    "    _, pol13_A_noise = vfish_experiment_A_noise()"
   ],
   "metadata": {
    "collapsed": false,
    "ExecuteTime": {
     "start_time": "2024-09-23T13:54:50.043146Z"
    }
   },
   "id": "ed9657dd869e6bec",
   "execution_count": null
  },
  {
   "cell_type": "code",
   "outputs": [],
   "source": [
    "# Condition on the data, but not the hypothesis, and perform inference over the copy coefficients.\n",
    "# <Inference on Data Simulated from Virtual Fish A>\n",
    "with condition(data={\"polarization\": pol31_A_noise}):\n",
    "    likelihood_mesh_31_A_noise = likelihood_mesh_2fish(\n",
    "        vfish_experiment_A_noise,\n",
    "        n=50,\n",
    "    )\n",
    "\n",
    "with condition(data={\"polarization\": pol13_A_noise}):\n",
    "    likelihood_mesh_13_A_noise = likelihood_mesh_2fish(\n",
    "        vfish_experiment_A_noise,\n",
    "        n=50,\n",
    "    )\n",
    "# </Inference on Data Simulated from Virtual Fish A>"
   ],
   "metadata": {
    "collapsed": false,
    "ExecuteTime": {
     "start_time": "2024-09-23T13:54:50.044139Z"
    }
   },
   "id": "27a2d448b2045b5a",
   "execution_count": null
  },
  {
   "cell_type": "code",
   "outputs": [],
   "source": [
    "# Generate data from the two hypotheses according to our model of experiment B.\n",
    "with condition(data={\"copy_coefs\": torch.tensor([3., 1.])}):\n",
    "    _, pol31_B_noise = vfish_experiment_B_noise()\n",
    "    \n",
    "with condition(data={\"copy_coefs\": torch.tensor([1., 3.])}):\n",
    "    _, pol13_B_noise = vfish_experiment_B_noise()"
   ],
   "metadata": {
    "collapsed": false,
    "ExecuteTime": {
     "start_time": "2024-09-23T13:54:50.045214Z"
    }
   },
   "id": "6c5d978353c2658e",
   "execution_count": null
  },
  {
   "cell_type": "code",
   "outputs": [],
   "source": [
    "# <Inference on Data Simulated from Virtual Fish B>\n",
    "with condition(data={\"polarization\": pol31_B_noise}):\n",
    "    likelihood_mesh_31_B_noise = likelihood_mesh_2fish(\n",
    "        vfish_experiment_B_noise,\n",
    "        n=50,\n",
    "    )\n",
    "    \n",
    "with condition(data={\"polarization\": pol13_B_noise}):\n",
    "    likelihood_mesh_13_B_noise = likelihood_mesh_2fish(\n",
    "        vfish_experiment_B_noise,\n",
    "        n=50,\n",
    "    )\n",
    "# </Inference on Data Simulated from Virtual Fish B>"
   ],
   "metadata": {
    "collapsed": false,
    "ExecuteTime": {
     "start_time": "2024-09-23T13:54:50.046208Z"
    }
   },
   "id": "c79cb76572dad9d6",
   "execution_count": null
  },
  {
   "cell_type": "code",
   "outputs": [],
   "source": [
    "def plot_posterior(ax, mesh):\n",
    "    samples = sample_from_mesh(mesh, 1000)\n",
    "    ax.scatter(samples[:, 0], samples[:, 1], alpha=0.5, s=1.0)\n",
    "    ax.set_xlim(XLIM)\n",
    "    ax.set_ylim(YLIM)\n",
    "\n",
    "    ax.set_xlabel(r\"$\\alpha$\")\n",
    "    ax.set_ylabel(r\"$\\beta$\")\n",
    "\n",
    "\n",
    "def plot_copy_coef_lines(ax, copy_coefs=None):\n",
    "    if copy_coefs is None:\n",
    "        copy_coefs = GET_TRUE_COPY_COEFS()\n",
    "    \n",
    "    ax.axvline(copy_coefs[0].item(), color='red', linestyle=\"--\")\n",
    "    ax.axhline(copy_coefs[1].item(), color='red', linestyle=\"--\")\n",
    "    \n",
    "    \n",
    "    \n",
    "def plot_plot_3113_posteriors(mesh31, mesh13):\n",
    "    fig, axs = plt.subplots(1, 2, figsize=(8, 4))\n",
    "    \n",
    "    plot_posterior(axs[0], mesh31)\n",
    "    plot_copy_coef_lines(axs[0], copy_coefs=torch.tensor([3., 1.]))\n",
    "    axs[0].set_title(\"Hypothesis [3,1]\")\n",
    "    \n",
    "    plot_posterior(axs[1], mesh13)\n",
    "    plot_copy_coef_lines(axs[1], copy_coefs=torch.tensor([1., 3.]))\n",
    "    axs[1].set_title(\"Hypothesis [1,3]\")"
   ],
   "metadata": {
    "collapsed": false,
    "ExecuteTime": {
     "start_time": "2024-09-23T13:54:50.047178Z"
    }
   },
   "id": "1909c8f58f746b8d",
   "execution_count": null
  },
  {
   "cell_type": "markdown",
   "source": [
    "##### Visualizing Posteriors\n",
    "We can now visualize our inferences as if we observed polarization data generated from each experiment under each copy coefficient hypothesis. We want to see how well our posteriors recover the generating hypothesis."
   ],
   "metadata": {
    "collapsed": false
   },
   "id": "837af328e8fcb2c2"
  },
  {
   "cell_type": "code",
   "outputs": [],
   "source": [
    "plot_plot_3113_posteriors(likelihood_mesh_31_A_noise, likelihood_mesh_13_A_noise)\n",
    "plt.suptitle(\"Posterior Inference for Virtual Fish A\")"
   ],
   "metadata": {
    "collapsed": false,
    "ExecuteTime": {
     "start_time": "2024-09-23T13:54:50.048209Z"
    }
   },
   "id": "96687686a12f8fa2",
   "execution_count": null
  },
  {
   "cell_type": "code",
   "outputs": [],
   "source": [
    "plot_plot_3113_posteriors(likelihood_mesh_31_B_noise, likelihood_mesh_13_B_noise)\n",
    "plt.suptitle(\"Posterior Inference for Virtual Fish B\")"
   ],
   "metadata": {
    "collapsed": false,
    "ExecuteTime": {
     "start_time": "2024-09-23T13:54:50.049376Z"
    }
   },
   "id": "ebdae447f9ed8203",
   "execution_count": null
  },
  {
   "cell_type": "markdown",
   "source": [
    "### Expected Posterior Concentration as a Measure of Experimental Efficiency\n",
    "We see from the above that, as expected, the high frequency trajectory with the misaligned start results in much tighter posterior conclusions! In other words, the results of that experiment point to a much smaller set of plausible copy coefficients. This is reflected as a higher concentration of samples around the hypothesis that generated the data. \n",
    "\n",
    "Thus far, however, we've glossed over something important — we don't know the copy coefficients to begin with, so how can we generate data from them to test our experiments? The answer is conceptually straightforward but computationally challenging: we want to measure the *expected* posterior concentration averaged over our competing hypotheses. Computationally, we can implement a nested Monte-Carlo approximation by 1) sampling from our space of competing hypotheses (e.g. our prior), and 2) run posterior inference and compute the posterior concentration. We can then average these concentration scores to get our expected concentration over the competing hypotheses.\n",
    "\n",
    "To precisely quantify the posterior concentration, we'll use *entropy*, which is the expected log likelihood of the posterior. Denoting our posterior with $p(\\alpha, \\beta | \\mathcal{D})$, the posterior entropy is defined as:\n",
    "\n",
    "$$\n",
    "H(\\alpha, \\beta \\mid \\mathcal{D}) = - \\mathbb{E}_{p(\\alpha, \\beta | \\mathcal{D})} \\log p(\\alpha, \\beta | \\mathcal{D})\n",
    "$$\n",
    "\n",
    "We assume our polarization data are distributed according to the following model, where the coefficients are sampled from the prior, and then pushed through the fish trajectory simulation model:\n",
    "\n",
    "$$\n",
    "p(\\mathcal{D}) = \\mathbb{E}_{p(\\alpha, \\beta)}[p(\\mathcal{D} | \\alpha, \\beta)]\n",
    "$$\n",
    "\n",
    "The expected entropy, then, is the entropy averaged over the possible datasets, which vary with the unknown copy coefficients and the noise in the observations.\n",
    "\n",
    "$$\n",
    "\\mathbb{E}_{p(\\mathcal{D})}\\left[H(\\alpha, \\beta \\mid \\mathcal{D})\\right]\n",
    "$$\n",
    "\n",
    "We can estimate this with nested Monte-Carlo by sampling coefficients from the prior, generating data, inferring the posterior from that data, and then computing its entropy. The final measure of a good experiment is the average entropy over posteriors induced by data generated from the space of competing hypotheses.\n",
    "\n",
    "If we make Monte-Carlo samples as follows:\n",
    "$$\n",
    "\\alpha_i, \\beta_i \\thicksim p(\\alpha, \\beta) \\\\\n",
    "\\mathcal{D}_i \\thicksim p(\\mathcal{D} | \\alpha_i, \\beta_i) \\\\\n",
    "$$\n",
    "\n",
    "We can then approximate the expected entropy as:\n",
    "$$\n",
    "\\mathbb{E}_{p(\\mathcal{D})}\\left[H(\\alpha, \\beta \\mid \\mathcal{D})\\right] \\approx \\frac{1}{N} \\sum_{i=1}^N H(\\alpha, \\beta \\mid \\mathcal{D}_i)\n",
    "$$\n",
    "\n",
    "Noting finally that $H(\\alpha, \\beta \\mid \\mathcal{D})$ is fairly straightforward to estimate from our discrete approximation to our posterior (see the function below called `entropy_from_mesh`).\n"
   ],
   "metadata": {
    "collapsed": false
   },
   "id": "3922547612645a76"
  },
  {
   "cell_type": "code",
   "outputs": [],
   "source": [
    "def entropy_from_mesh(mesh):\n",
    "    # Normalize, in a numerically stable way, to get probabilities.\n",
    "    probs = torch.softmax(mesh.log_prob.reshape(-1) - mesh.log_prob.max(), dim=0)\n",
    "    # Compute entorpy.\n",
    "    return -torch.sum(probs * torch.log(probs + 1e-10))"
   ],
   "metadata": {
    "collapsed": false,
    "ExecuteTime": {
     "start_time": "2024-09-23T13:54:50.050373Z"
    }
   },
   "id": "c6786ba3a6ff946b",
   "execution_count": null
  },
  {
   "cell_type": "markdown",
   "source": [
    "We can now compute the entropies of the four posteriors computed above, and note that virtual fish B results in much lower entropy, i.e. higher concentration of posterior conclusions. Importantly, this is not the *expected* entropy, but rather the entropy of the posterior consistent with our true parameters. In practice, we don't know those parameters, and so much average over competing hypotheses about those parameters."
   ],
   "metadata": {
    "collapsed": false
   },
   "id": "f782f6a0786b464"
  },
  {
   "cell_type": "code",
   "outputs": [],
   "source": [
    "print(\"Entropy of Posterior Inference for Virtual Fish A\")\n",
    "print(f\"Hypothesis [3,1] A: {entropy_from_mesh(likelihood_mesh_31_A_noise).item():.2f}\")\n",
    "print(f\"Hypothesis [1,3] A: {entropy_from_mesh(likelihood_mesh_13_A_noise).item():.2f}\")\n",
    "print()\n",
    "\n",
    "print(\"Entropy of Posterior Inference for Virtual Fish B\")\n",
    "print(f\"Hypothesis [3,1] B: {entropy_from_mesh(likelihood_mesh_31_B_noise).item():.2f}\")\n",
    "print(f\"Hypothesis [1,3] B: {entropy_from_mesh(likelihood_mesh_13_B_noise).item():.2f}\")"
   ],
   "metadata": {
    "collapsed": false,
    "ExecuteTime": {
     "start_time": "2024-09-23T13:54:50.051059Z"
    }
   },
   "id": "73609f3f48a881d3",
   "execution_count": null
  },
  {
   "cell_type": "markdown",
   "source": [
    "##### Computing the Expected Entropy\n",
    "Now, we'll write some code to compute the expected entropy over a distribution of competing hypotheses. For simplicity, we'll fix our prior to be uniform in the interval [1, 4] for each copy coefficient."
   ],
   "metadata": {
    "collapsed": false
   },
   "id": "3154dcd99c1c87c3"
  },
  {
   "cell_type": "code",
   "outputs": [],
   "source": [
    "basic_experiment = partial(\n",
    "    mesoscopic_experiment_model,\n",
    "    num_fish=2,\n",
    "    mesoscopioc_noise=HIGH_NOISE,\n",
    ")\n",
    "\n",
    "\n",
    "def estimate_posterior_entropy(experiment, polarization_data, **inference_kwargs):\n",
    "    with condition(data={\"polarization\": polarization_data}):\n",
    "        likelihood_mesh = likelihood_mesh_2fish(\n",
    "            experiment,\n",
    "            **inference_kwargs\n",
    "        )\n",
    "    \n",
    "    return entropy_from_mesh(likelihood_mesh)\n",
    "    \n",
    "\n",
    "def expected_entropy(\n",
    "    experimental_context,\n",
    "    outer_n=100,\n",
    "    inner_n=50,\n",
    "):\n",
    "    entropies = []\n",
    "    for i in range(outer_n):\n",
    "        # Define experiment.\n",
    "        experiment = partial(basic_experiment, experimental_context=experimental_context)\n",
    "        \n",
    "        # Sample hypothesis from prior.\n",
    "        copy_coefs = dist.Uniform(1., 4.).sample((2,))\n",
    "        \n",
    "        # Simulate data.\n",
    "        with condition(data={\"copy_coefs\": copy_coefs}):\n",
    "            _, polarization_data = experiment()\n",
    "        \n",
    "        # Compute posterior entropy.\n",
    "        entropies.append(estimate_posterior_entropy(\n",
    "            experiment,\n",
    "            polarization_data,\n",
    "            lower=1.,\n",
    "            upper=4.,\n",
    "            n=inner_n,\n",
    "            verbose=False\n",
    "        ))\n",
    "        \n",
    "        print(f\"Progress {i+1}/{outer_n}\", end=\"\\r\")\n",
    "        \n",
    "    print()\n",
    "        \n",
    "    \n",
    "    return torch.stack(entropies)"
   ],
   "metadata": {
    "collapsed": false,
    "ExecuteTime": {
     "start_time": "2024-09-23T13:54:50.051904Z"
    }
   },
   "id": "f1882eb7807ca3ff",
   "execution_count": null
  },
  {
   "cell_type": "code",
   "outputs": [],
   "source": [
    "entropies_A = expected_entropy(virtual_fish_A, outer_n=30, inner_n=25)\n",
    "entropies_B = expected_entropy(virtual_fish_B, outer_n=30, inner_n=25)"
   ],
   "metadata": {
    "collapsed": false,
    "ExecuteTime": {
     "start_time": "2024-09-23T13:54:50.052626Z"
    }
   },
   "id": "e896dff9b549a400",
   "execution_count": null
  },
  {
   "cell_type": "code",
   "outputs": [],
   "source": [
    "# Plot the entropies with error bars.\n",
    "def plot_expected_entropy(*entropies, names=None):\n",
    "    fig, ax = plt.subplots(1, 1, figsize=(6, 4))\n",
    "    \n",
    "    for i, entropy in enumerate(entropies):\n",
    "        ax.errorbar(\n",
    "            i, \n",
    "            entropy.mean().item(), \n",
    "            yerr=torch.std(entropy).item() / np.sqrt(entropy.shape[0]), fmt='o', label=f\"Virtual Fish {i}\")\n",
    "        \n",
    "    \n",
    "    ax.set_xticks(range(len(entropies)))\n",
    "    if names is not None:\n",
    "        ax.set_xticklabels(names)\n",
    "    \n",
    "    ax.set_ylabel(\"Expected Posterior Entropy\")\n",
    "    ax.set_title(\"Expected Entropy of Posterior Inference\")\n",
    "    \n",
    "    ax.set_xlim(-.5, len(entropies) - .5)"
   ],
   "metadata": {
    "collapsed": false,
    "ExecuteTime": {
     "start_time": "2024-09-23T13:54:50.053539Z"
    }
   },
   "id": "217dc186c466e43d",
   "execution_count": null
  },
  {
   "cell_type": "code",
   "outputs": [],
   "source": [
    "plot_expected_entropy(entropies_A, entropies_B, names=(\"Virtual Fish A\", \"Virtual Fish B\"))"
   ],
   "metadata": {
    "collapsed": false,
    "ExecuteTime": {
     "start_time": "2024-09-23T13:54:50.054267Z"
    }
   },
   "id": "37a3e12e002f6065",
   "execution_count": null
  },
  {
   "cell_type": "markdown",
   "source": [
    "##### Virtual Fish B is a Better Experiment!\n",
    "As expected, even when averaging over a set of possible copy coefficients, virtual fish B results in a lower expected posterior entropy. This means its conclusions are more concentrated, on average, than those resulting from the experiment with virtual fish A.  "
   ],
   "metadata": {
    "collapsed": false
   },
   "id": "7d8878813a1da755"
  },
  {
   "cell_type": "markdown",
   "source": [
    "### Searching Over the Space of Experiments\n",
    "We now have a measure for the quality of our experiments, which means we can search over experimental parameters to find an efficient experiment! For now, we'll settle for a simple grid search over the starting position and frequency of the virtual fish trajectory. In practice, though, one could go so far as to define a virtual fish trajectory with a neural network, and then use gradient methods to optimize the trajectory for maximum experimental efficiency."
   ],
   "metadata": {
    "collapsed": false
   },
   "id": "e785fb8813ff2ba5"
  },
  {
   "cell_type": "code",
   "outputs": [],
   "source": [
    "# For simplicity, leaving these with a single element.\n",
    "grid_amplitude = [torch.tensor(torch.pi)]\n",
    "grid_phase = [torch.tensor(0.)]\n",
    "# But varying these over a grid.\n",
    "grid_frequencies = [torch.tensor(v) for v in (0.5, 1.0, 2.0, 4.0)]\n",
    "grid_vfish_theta0 = [torch.tensor(v) for v in (0., torch.pi/2)]\n",
    "\n",
    "# Now create list of virtual fish trajectories\n",
    "flat_grid_vfish_contexts = []\n",
    "for amp, ph, frq, theta0 in product(grid_amplitude, grid_phase, grid_frequencies, grid_vfish_theta0):\n",
    "    flat_grid_vfish_contexts.append(\n",
    "        VirtualFishContext(\n",
    "            sinusoidal_virtual_fish,\n",
    "            initial_state=dict(\n",
    "                vfish_theta=theta0\n",
    "            ),\n",
    "            atemp_params=dict(\n",
    "                frequency=frq,\n",
    "                amplitude=amp,\n",
    "                phase=ph\n",
    "            )\n",
    "        )\n",
    "    )"
   ],
   "metadata": {
    "collapsed": false,
    "ExecuteTime": {
     "start_time": "2024-09-23T13:54:50.055160Z"
    }
   },
   "id": "8c884416b297b795",
   "execution_count": null
  },
  {
   "cell_type": "code",
   "outputs": [],
   "source": [
    "# Run the experiments and compute the expected entropies.\n",
    "entropies = []\n",
    "for i, vfish in enumerate(flat_grid_vfish_contexts):\n",
    "    print(f\"Running experiment {i+1}/{len(flat_grid_vfish_contexts)}\")\n",
    "    entropies.append(expected_entropy(vfish, outer_n=30, inner_n=25))"
   ],
   "metadata": {
    "collapsed": false,
    "ExecuteTime": {
     "start_time": "2024-09-23T13:54:50.055906Z"
    }
   },
   "id": "31ed8cab7b1b8cfe",
   "execution_count": null
  },
  {
   "cell_type": "code",
   "outputs": [],
   "source": [
    "# Plot the expected entropies.\n",
    "plot_expected_entropy(*entropies)\n",
    "# Set the xticks to the grid parameters.\n",
    "plt.xticks(range(len(flat_grid_vfish_contexts)), [\n",
    "    f\"Freq: {v.atemp_params['frequency'].item():.2f},\"\n",
    "    f\" {'Algn' if torch.isclose(v.initial_state['vfish_theta'], torch.tensor(0.0)) else 'Btwn'}\"\n",
    "    for v in flat_grid_vfish_contexts], rotation=45, ha='right')\n",
    "plt.tight_layout()\n",
    "pass"
   ],
   "metadata": {
    "collapsed": false,
    "ExecuteTime": {
     "start_time": "2024-09-23T13:54:50.056653Z"
    }
   },
   "id": "1dcbd019a3772bf4",
   "execution_count": null
  },
  {
   "cell_type": "markdown",
   "source": [
    "##### Visualizing at True Coefficients\n",
    "To visualize the trajectories and posteriors across the grid, we'll look just at what comes back for our unknown, true copy coefficients. In practice, of course, these aren't known, but this will give us a good sense of what our inferences would look like under the true copy coefficients and these experiments. We'll show the trajectories and the resultant posterior inferences in the grid, and print the estimated expected entropy that we computed for each experiment."
   ],
   "metadata": {
    "collapsed": false
   },
   "id": "558d6f5f28d75be1"
  },
  {
   "cell_type": "code",
   "outputs": [],
   "source": [
    "def simulate_experiment_and_inference(basic_experiment, *experimental_contexts, copy_coefs=None):\n",
    "    \n",
    "    if copy_coefs is None:\n",
    "        copy_coefs = GET_TRUE_COPY_COEFS()\n",
    "        \n",
    "    trajectories, polarizations, posteriors = [], [], []\n",
    "    \n",
    "    for experimental_context in experimental_contexts:\n",
    "        # Define the experiment.\n",
    "        experiment = partial(basic_experiment, experimental_context=experimental_context)\n",
    "        \n",
    "        with condition(data={\"copy_coefs\": copy_coefs}):\n",
    "            trajectory, polarization = experiment()\n",
    "        \n",
    "        trajectories.append(trajectory)\n",
    "        polarizations.append(polarization)\n",
    "        \n",
    "        with condition(data={\"polarization\": polarization}):\n",
    "            likelihood_mesh = likelihood_mesh_2fish(\n",
    "                experiment,\n",
    "                n=50,\n",
    "            )\n",
    "        \n",
    "        posteriors.append(likelihood_mesh)\n",
    "    \n",
    "    return trajectories, polarizations, posteriors"
   ],
   "metadata": {
    "collapsed": false,
    "ExecuteTime": {
     "start_time": "2024-09-23T13:54:50.057331Z"
    }
   },
   "id": "c2eac9d8fc04e97d",
   "execution_count": null
  },
  {
   "cell_type": "code",
   "outputs": [],
   "source": [
    "flat_grid_trajectories, flat_grid_polarizations, flat_grid_posteriors = simulate_experiment_and_inference(\n",
    "    basic_experiment,\n",
    "    *flat_grid_vfish_contexts,\n",
    "    copy_coefs=GET_TRUE_COPY_COEFS()\n",
    ")"
   ],
   "metadata": {
    "collapsed": false,
    "ExecuteTime": {
     "start_time": "2024-09-23T13:54:50.057982Z"
    }
   },
   "id": "28aa8f8b389ffcbb",
   "execution_count": null
  },
  {
   "cell_type": "code",
   "outputs": [],
   "source": [
    "# Reshape into a grid for plotting.\n",
    "grid_trajectories = np.array(flat_grid_trajectories, dtype=object).reshape(len(grid_frequencies), len(grid_vfish_theta0))"
   ],
   "metadata": {
    "collapsed": false,
    "ExecuteTime": {
     "start_time": "2024-09-23T13:54:50.058668Z"
    }
   },
   "id": "6909256554bdaab8",
   "execution_count": null
  },
  {
   "cell_type": "code",
   "outputs": [],
   "source": [
    "# And plot the grid of trajectories.\n",
    "ni, nj = len(grid_frequencies), len(grid_vfish_theta0)\n",
    "fig, axs = plt.subplots(ni, nj, figsize=(7, 14), sharex=True, sharey=True)\n",
    "for i, j in product(range(ni), range(nj)):\n",
    "    ax = axs[i][j]\n",
    "    trajectory = grid_trajectories[i, j]\n",
    "    plot_single_trajectory(ax, trajectory)\n",
    "\n",
    "def label_axes(axs, grid_frequencies, grid_vfish_theta0):\n",
    "    for i, j in product(range(ni), range(nj)):\n",
    "        # Label the axes with the grid parameters. Use yaxis label for the leftmost column of plots,\n",
    "        #  and an xaxis label for the bottom row.\n",
    "        if j == 0:\n",
    "            axs[i][j].set_ylabel(f\"Frequency: {grid_frequencies[i].item():.2f}\")\n",
    "        if i == ni - 1:\n",
    "            axs[i][j].set_xlabel(f\"Algn\" if torch.isclose(grid_vfish_theta0[j], torch.tensor(0.0)) else \"Btwn\")\n",
    "\n",
    "label_axes(axs, grid_frequencies, grid_vfish_theta0)\n",
    "\n",
    "axs[0][-1].legend([\"Fish 0\", \"Fish 1\", \"Virtual Fish\"], loc='lower right')\n",
    "\n",
    "plt.suptitle(\"Trajectories of Experiments Under True Copy Coefficients\")\n",
    "plt.tight_layout()\n",
    "pass"
   ],
   "metadata": {
    "collapsed": false,
    "ExecuteTime": {
     "start_time": "2024-09-23T13:54:50.059329Z"
    }
   },
   "id": "a32c9913aee02470",
   "execution_count": null
  },
  {
   "cell_type": "code",
   "outputs": [],
   "source": [
    "# And visualize the posteriors.\n",
    "posterior_mesh_array = np.array(flat_grid_posteriors)\n",
    "# Somewhat annoyingly, numpy introspects the named tuple and converts the entire thing to an array.\n",
    "gridded_posterior_mesh_array = posterior_mesh_array.reshape(len(grid_frequencies), len(grid_vfish_theta0), 3, 50, 50)\n",
    "gridded_posterior_mesh_tensor = torch.tensor(gridded_posterior_mesh_array)\n",
    "\n",
    "fig, axs = plt.subplots(ni, nj, figsize=(7, 14), sharex=True, sharey=True)\n",
    "for i, j in product(range(ni), range(nj)):\n",
    "    ax = axs[i][j]\n",
    "    mesh = PosteriorMesh(*gridded_posterior_mesh_tensor[i, j])\n",
    "    samples = sample_from_mesh(mesh, 1000)\n",
    "    s = samples + torch.randn_like(samples) * 0.05\n",
    "    ax.scatter(s[:, 0].detach(), s[:, 1].detach(), s=1.0, alpha=.3)\n",
    "    ax.axvline(GET_TRUE_COPY_COEFS()[0].item(), color='red', linestyle='--', linewidth=1.0, alpha=1.0)\n",
    "    ax.axhline(GET_TRUE_COPY_COEFS()[1].item(), color='red', linestyle='--', linewidth=1.0, alpha=1.0)\n",
    "\n",
    "    ax.text(0.45, 0.9, f\"Entropy: {entropy_from_mesh(mesh):.2f}\", horizontalalignment='left',\n",
    "            verticalalignment='center', transform=ax.transAxes)\n",
    "    ax.text(0.45, 0.8, f\"Exp. Entropy: {entropies[i * nj + j].mean().item():.2f}\", horizontalalignment='left',\n",
    "            verticalalignment='center', transform=ax.transAxes)\n",
    "\n",
    "label_axes(axs, grid_frequencies, grid_vfish_theta0)\n",
    "plt.suptitle(\"Posterior Inferences of Experiments Under True Copy Coefficients\")\n",
    "plt.tight_layout()"
   ],
   "metadata": {
    "collapsed": false,
    "ExecuteTime": {
     "start_time": "2024-09-23T13:54:50.060056Z"
    }
   },
   "id": "b857addeb1aa4902",
   "execution_count": null
  },
  {
   "cell_type": "markdown",
   "source": [
    "##### Expected Entropy Recovers Effective Experiment\n",
    "\n",
    "From this, we see that our expected entropy measure would have indeed selected a high quality experiment! One with relatively high frequency oscillations and a misaligned starting point. Importantly, the true copy coefficients might be better served by a different experiment than the one identified as the best by the expected entropy. This is unsurprising, as the expected entropy is an average over the space of competing hypotheses, and not a measure of the quality of the experiment for a specific hypothesis."
   ],
   "metadata": {
    "collapsed": false
   },
   "id": "c4b7ddd98e498135"
  },
  {
   "cell_type": "markdown",
   "source": [
    "### Experiments can Be Combined!\n",
    "Now, in this particular setting, a single virtual fish experiment is sufficient to identify a single mode in our hypothesis space (the space of the two copy coefficients). Sometimes, however, it can be advantageous — or even necessary — to *combine* experiments in order to identify the true hypothesis. To illustrate this point, we'll take two bad experiments from above and combine them to find that together, they result in inferences of much higher quality.\n",
    "\n",
    "For this illustration, we'll just look at posteriors under the true copy coefficients."
   ],
   "metadata": {
    "collapsed": false
   },
   "id": "f1dc5230f281dd48"
  },
  {
   "cell_type": "code",
   "outputs": [],
   "source": [
    "# We'll just re-use this bad experiment!\n",
    "bad_experimental_context_1 = virtual_fish_A\n",
    "# And then we'll take our worst experiment from the grid search.\n",
    "bad_experimental_context_2 = flat_grid_vfish_contexts[1]"
   ],
   "metadata": {
    "collapsed": false,
    "ExecuteTime": {
     "start_time": "2024-09-23T13:54:50.060762Z"
    }
   },
   "id": "9ee7d2854f61ed3b",
   "execution_count": null
  },
  {
   "cell_type": "code",
   "outputs": [],
   "source": [
    "# And let's review what their individual posteriors looked like.\n",
    "bad_experimental_context_posterior_mesh_1 = likelihood_mesh_31_A_noise\n",
    "bad_experimental_context_posterior_mesh_2 = gridded_posterior_mesh_tensor[0, 1]"
   ],
   "metadata": {
    "collapsed": false,
    "ExecuteTime": {
     "start_time": "2024-09-23T13:54:50.062418Z"
    }
   },
   "id": "3462daa7949dbb66",
   "execution_count": null
  },
  {
   "cell_type": "code",
   "outputs": [],
   "source": [
    "# And recover the observations that resulted in those posteriors.\n",
    "bad_experiment_1_polarizations = pol31_A_noise\n",
    "bad_experiment_1_trajectory = pol31_A_traj\n",
    "bad_experiment_2_polarizations = flat_grid_polarizations[1]\n",
    "bad_experiment_2_trajectory = flat_grid_trajectories[1]"
   ],
   "metadata": {
    "collapsed": false,
    "ExecuteTime": {
     "start_time": "2024-09-23T13:54:50.063183Z"
    }
   },
   "id": "483e027c13d44eed",
   "execution_count": null
  },
  {
   "cell_type": "code",
   "outputs": [],
   "source": [
    "# Plot these side-by-side.\n",
    "fig, axs = plt.subplots(1, 2, figsize=(8, 4), sharex=True, sharey=True)\n",
    "plot_posterior(axs[0], bad_experimental_context_posterior_mesh_1)\n",
    "plot_copy_coef_lines(axs[0])\n",
    "axs[0].set_title(\"Inferences After Bad Experiment 1\")\n",
    "plot_posterior(axs[1], PosteriorMesh(*bad_experimental_context_posterior_mesh_2))\n",
    "plot_copy_coef_lines(axs[1])\n",
    "axs[1].set_title(\"Inferences After Bad Experiment 2\")"
   ],
   "metadata": {
    "collapsed": false,
    "ExecuteTime": {
     "start_time": "2024-09-23T13:54:50.064074Z"
    }
   },
   "id": "4fbd70ea807538c",
   "execution_count": null
  },
  {
   "cell_type": "markdown",
   "source": [
    "##### Experimental \"Meta-Model\"\n",
    "To assist us here, we'll define a \"meta-model\" that simulates both experiments with a shared set of copy coefficients."
   ],
   "metadata": {
    "collapsed": false
   },
   "id": "1270c69574b4f39b"
  },
  {
   "cell_type": "code",
   "outputs": [],
   "source": [
    "def experimental_meta_model(experimental_contexts: Tuple = (), num_fish: int = 2, ):\n",
    "    \n",
    "    copy_coefs = copy_coefficient_prior(num_fish)\n",
    "    fixed_initial_state = dict(\n",
    "        thetas=torch.linspace(0., torch.pi, num_fish)\n",
    "    )\n",
    "    \n",
    "    observed_polarizations = []\n",
    "    trajectories = []\n",
    "    \n",
    "    for i, experimental_context in enumerate(experimental_contexts):\n",
    "        # This \"scope\" helps differentiate sample sites in the two experimental models, otherwise we'd end up with\n",
    "        #  multiple sites named \"polarization\" in the meta-model. `scope` prefixes these sites however, so we end up\n",
    "        #  sites named \"experiment0/polarization\" and \"experiment1/polarization\", for example.\n",
    "        with scope(prefix=f\"experiment{i}\"):\n",
    "            traj, obs_pol = mesoscopic_experiment_model(\n",
    "                num_fish=num_fish,\n",
    "                mesoscopioc_noise=HIGH_NOISE,\n",
    "                experimental_context=experimental_context,\n",
    "                copy_coefs=copy_coefs,\n",
    "                initial_state=fixed_initial_state\n",
    "            )\n",
    "        trajectories.append(traj)\n",
    "        observed_polarizations.append(obs_pol)\n",
    "    \n",
    "    return trajectories, observed_polarizations"
   ],
   "metadata": {
    "collapsed": false,
    "ExecuteTime": {
     "start_time": "2024-09-23T13:54:50.064796Z"
    }
   },
   "id": "4080214942033288",
   "execution_count": null
  },
  {
   "cell_type": "code",
   "outputs": [],
   "source": [
    "# And we'll visualize these again.\n",
    "_, axs = plt.subplots(1, 2, figsize=(8, 4))\n",
    "plot_single_trajectory(axs[0], bad_experiment_1_trajectory)\n",
    "plot_single_trajectory(axs[1], bad_experiment_2_trajectory)\n",
    "axs[0].set_title(\"Trajectory 1\")\n",
    "axs[1].set_title(\"Trajectory 2\")\n",
    "plt.suptitle(\"Trajectories of Bad Experiments Under True Copy Coefficients\")\n",
    "plt.tight_layout()"
   ],
   "metadata": {
    "collapsed": false,
    "ExecuteTime": {
     "start_time": "2024-09-23T13:54:50.065503Z"
    }
   },
   "id": "fd554615cc8dd3d8",
   "execution_count": null
  },
  {
   "cell_type": "code",
   "outputs": [],
   "source": [
    "# And we can now run inference on the joint meta-model.\n",
    "mesh_both = likelihood_mesh_2fish(\n",
    "    condition(\n",
    "        partial(experimental_meta_model, experimental_contexts=(bad_experimental_context_1, bad_experimental_context_2)),\n",
    "        data={\n",
    "            \"experiment0/polarization\": bad_experiment_1_polarizations,\n",
    "            \"experiment1/polarization\": bad_experiment_2_polarizations\n",
    "        }\n",
    "    ),\n",
    "    n=50\n",
    ")"
   ],
   "metadata": {
    "collapsed": false,
    "ExecuteTime": {
     "start_time": "2024-09-23T13:54:50.066176Z"
    }
   },
   "id": "bb705826606c2ae5",
   "execution_count": null
  },
  {
   "cell_type": "code",
   "outputs": [],
   "source": [
    "# And plot the joint alongside the individual posteriors.\n",
    "_, axs = plt.subplots(1, 3, figsize=(12, 4), sharex=True, sharey=True)\n",
    "\n",
    "plot_posterior(axs[0], bad_experimental_context_posterior_mesh_1)\n",
    "plot_copy_coef_lines(axs[0])\n",
    "axs[0].set_title(\"Inferences After Bad Experiment 1\")\n",
    "\n",
    "plot_posterior(axs[1], PosteriorMesh(*bad_experimental_context_posterior_mesh_2))\n",
    "plot_copy_coef_lines(axs[1])\n",
    "axs[1].set_title(\"Inferences After Bad Experiment 2\")\n",
    "\n",
    "plot_posterior(axs[2], mesh_both)\n",
    "plot_copy_coef_lines(axs[2])\n",
    "axs[2].set_title(\"Inferences After Both Experiments\")\n",
    "\n",
    "plt.tight_layout()\n",
    "pass"
   ],
   "metadata": {
    "collapsed": false,
    "ExecuteTime": {
     "start_time": "2024-09-23T13:54:50.066855Z"
    }
   },
   "id": "b9429c64bf48d12b",
   "execution_count": null
  },
  {
   "cell_type": "markdown",
   "source": [
    "##### Posterior Under Meta-Model with Both Experiments\n",
    "\n",
    "Indeed, by combining these two poor experiments, we can infer a much tighter posterior than would have otherwise been possible.\n",
    "\n",
    "Roughly speaking, their joint posterior shows a sort of *intersection* between the two posteriors. In more troublesome cases than this one — where neither of the two experiments can fully identify the truth even under minimal noise — combining them can result in a sort of cross-referencing that does identify the correct hypothesis.\n",
    "\n",
    "Importantly, in an experimental design setting, these experimental \"meta-models\" can be evaluated with expected entropy too, just like a standard model. This helps identify \"batches\" of experiments that, when taken together, will most efficiently identify the truth. On a similar note, these experiments can be performed sequentially in an intuitive Bayesian-style update. Instead of computing the expected entropy with respect to prior uncertainty, we can compute it with respect to posterior uncertainty from a previous experiment. This constitutes a \"greedy\" sequential experimental design, in which the next experiment is chosen to minimize the expected entropy of the posterior after the next experiment.   "
   ],
   "metadata": {
    "collapsed": false
   },
   "id": "9cf1243003e9780f"
  },
  {
   "cell_type": "markdown",
   "source": [
    "# Conclusion\n",
    "\n",
    "In this notebook, we've used a toy setting to explore the benefits of Bayesian experimental design in non-identified settings. As long as the scientist is able to model what will happen under a space of experiments and hypotheses, this pipeline can be used to identify efficient experimental protocols to differentiate between competing hypotheses. In practice, of course, this information can be combined with the cost of running the experiment. "
   ],
   "metadata": {
    "collapsed": false
   },
   "id": "ced0c695c2b65058"
  }
 ],
 "metadata": {
  "kernelspec": {
   "display_name": "Python 3",
   "language": "python",
   "name": "python3"
  },
  "language_info": {
   "codemirror_mode": {
    "name": "ipython",
    "version": 2
   },
   "file_extension": ".py",
   "mimetype": "text/x-python",
   "name": "python",
   "nbconvert_exporter": "python",
   "pygments_lexer": "ipython2",
   "version": "2.7.6"
  }
 },
 "nbformat": 4,
 "nbformat_minor": 5
}
