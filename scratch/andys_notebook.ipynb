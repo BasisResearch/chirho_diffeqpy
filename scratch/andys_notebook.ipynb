{
 "cells": [
  {
   "cell_type": "code",
   "outputs": [],
   "source": [
    "# NO CHANGE\n",
    "from chirho_diffeqpy import DiffEqPy, ATempParams\n",
    "from chirho.dynamical.handlers.solver import TorchDiffEq\n",
    "from chirho.dynamical.ops import simulate\n",
    "from chirho.dynamical.handlers.trajectory import LogTrajectory\n",
    "from chirho.dynamical.handlers import StaticBatchObservation, StaticIntervention, DynamicIntervention\n",
    "from chirho.counterfactual.handlers import MultiWorldCounterfactual\n",
    "from chirho.observational.handlers import condition\n",
    "from chirho.dynamical.ops import State\n",
    "import numpy as np\n",
    "import torch\n",
    "from pyro import sample, set_rng_seed\n",
    "from pyro.distributions import Uniform, Poisson\n",
    "from typing import Tuple, Optional, Union, Callable\n",
    "from functools import partial\n",
    "from numbers import Real\n",
    "import matplotlib.pyplot as plt\n",
    "import pyro\n",
    "import pyro.distributions as dist\n",
    "from pyro.infer.autoguide import AutoDelta, AutoMultivariateNormal\n",
    "from contextlib import nullcontext\n",
    "# The DiffEqPy backend interfaces with julia, so we must load a julia<>python interop backend.\n",
    "import chirho_diffeqpy.lang_interop.julianumpy\n",
    "from contextlib import ExitStack, nullcontext\n",
    "from pyro.contrib.autoname import scope\n",
    "# Global params are weird.\n",
    "from functools import singledispatch, partial\n",
    "import pyro\n",
    "import torch\n",
    "import zuko\n",
    "from pyro.contrib.zuko import ZukoToPyro\n",
    "from pyro.contrib.easyguide import easy_guide\n",
    "from collections import namedtuple\n",
    "from chirho.observational.handlers import condition\n",
    "from itertools import product\n",
    "from toy_fish.handlers import VirtualFishContext\n",
    "from toy_fish.ops import sin, cos, NoVirtualFish, virtual_fish_dynamics\n",
    "from collections import namedtuple\n",
    "\n",
    "pyro.settings.set(module_local_params=True)\n",
    "torch.set_default_dtype(torch.float64)\n",
    "pyro.set_rng_seed(82901)"
   ],
   "metadata": {
    "collapsed": false
   },
   "id": "3981a823778c75c3",
   "execution_count": 14
  },
  {
   "cell_type": "code",
   "outputs": [],
   "source": [
    "# NO CHANGE\n",
    "def pure_schooling_dynamics(state, atemp_params):\n",
    "    thetas = state['thetas']\n",
    "    \n",
    "    # If this is being run in the experimental context of a virtual fish,\n",
    "    #  compute the virtual fish dynamics and distance to real fish.\n",
    "    try:\n",
    "        # ...if the virtual fish is present.\n",
    "        ddt_vfish = virtual_fish_dynamics(state, atemp_params)\n",
    "        vfish_theta = state['vfish_theta']\n",
    "        virtual_fish_diff = vfish_theta - thetas\n",
    "    except NoVirtualFish:\n",
    "        # ...otherwise proceed with no virtual fish.\n",
    "        ddt_vfish = dict()\n",
    "        virtual_fish_diff = 0.0\n",
    "    \n",
    "    # Compute the distances between the real fish and virtual fish.\n",
    "    thetas_diff_mat = thetas[..., :, None] - thetas[..., None, :]\n",
    "    thetas_diff_tots = thetas_diff_mat.sum(axis=-2) + virtual_fish_diff\n",
    "    assert thetas.shape == thetas_diff_tots.shape\n",
    "    \n",
    "    # And the resulting dynamics.\n",
    "    copy_coefs = atemp_params['copy_coefs']\n",
    "    dthetas = thetas_diff_tots * copy_coefs\n",
    "    \n",
    "    return dict(\n",
    "        thetas=dthetas,\n",
    "        **ddt_vfish\n",
    "    )"
   ],
   "metadata": {
    "collapsed": false
   },
   "id": "24afec8ae7723a6c",
   "execution_count": 15
  },
  {
   "cell_type": "code",
   "outputs": [],
   "source": [
    "# NO CHANGE\n",
    "def sinusoidal_virtual_fish(state, atemp_params):\n",
    "    \n",
    "    frequency = atemp_params['frequency']\n",
    "    amplitude = atemp_params['amplitude']\n",
    "    phase = atemp_params['phase']\n",
    "    t = state['t']\n",
    "    \n",
    "    return dict(\n",
    "        vfish_theta=amplitude * frequency * cos(frequency * t + phase)\n",
    "    )"
   ],
   "metadata": {
    "collapsed": false
   },
   "id": "585c6da01faa84ee",
   "execution_count": 16
  },
  {
   "cell_type": "code",
   "outputs": [],
   "source": [
    "# NO CHANGE\n",
    "START_T = torch.tensor(0.0)\n",
    "END_T = torch.tensor(5.0)\n",
    "RES = 50\n",
    "GET_TRUE_COPY_COEFS = lambda: torch.tensor([3., 1.])\n",
    "\n",
    "def run_experiment(logging_times, initial_state, atemp_params):\n",
    "    with LogTrajectory(times=logging_times) as logging_trajectory:\n",
    "        simulate(\n",
    "            pure_schooling_dynamics,\n",
    "            initial_state,\n",
    "            START_T,\n",
    "            END_T,\n",
    "            atemp_params=atemp_params\n",
    "        )\n",
    "    return logging_trajectory.trajectory"
   ],
   "metadata": {
    "collapsed": false
   },
   "id": "6483a79222dfa0da",
   "execution_count": 17
  },
  {
   "cell_type": "code",
   "outputs": [],
   "source": [
    "# NO CHANGE\n",
    "def polarization_fn(theta):\n",
    "    theta = theta.T\n",
    "    assert theta.shape[-1] == 2, \"Multi-fish polarization is not yet implemented!\"\n",
    "    return torch.sqrt((1 + torch.cos(theta[...,0] - theta[...,1]))/2)"
   ],
   "metadata": {
    "collapsed": false
   },
   "id": "a0dfb3a40ef3ac11",
   "execution_count": 18
  },
  {
   "cell_type": "code",
   "outputs": [],
   "source": [
    "# NO CHANGE\n",
    "SOLVER = DiffEqPy()"
   ],
   "metadata": {
    "collapsed": false
   },
   "id": "4b2c6ef6250e3b1",
   "execution_count": 19
  },
  {
   "cell_type": "code",
   "outputs": [],
   "source": [
    "# NO CHANGE\n",
    "def copy_coefficient_prior(num_fish: int):\n",
    "    return sample(\"copy_coefs\", dist.Uniform(0., 10.).expand((num_fish,)).to_event(1))\n",
    "\n",
    "def mesoscopic_experiment_model(\n",
    "    num_fish: int,\n",
    "    mesoscopioc_noise: float,\n",
    "    experimental_context = None,\n",
    "    copy_coefs = None,\n",
    "    initial_state = None,\n",
    "):\n",
    "    \n",
    "    if experimental_context is None:\n",
    "        experimental_context = nullcontext()\n",
    "    \n",
    "    if copy_coefs is None:\n",
    "        copy_coefs = copy_coefficient_prior(num_fish)\n",
    "    \n",
    "    if initial_state is None:\n",
    "        initial_state = dict(\n",
    "            thetas=torch.linspace(0., torch.pi, num_fish)\n",
    "        )\n",
    "    \n",
    "    fixed_observation_times = torch.linspace(START_T, END_T, RES)\n",
    "    \n",
    "    with SOLVER, experimental_context:\n",
    "        trajectory = run_experiment(\n",
    "            logging_times=fixed_observation_times,\n",
    "            initial_state=initial_state,\n",
    "            atemp_params=dict(\n",
    "                copy_coefs=copy_coefs\n",
    "            )\n",
    "        )\n",
    "        \n",
    "        polarization = polarization_fn(trajectory['thetas'])\n",
    "        # A trivial noise model over the polarization. This largely functions to relax the problem for inference.\n",
    "        observed_polarization = pyro.sample(\"polarization\", dist.Normal(polarization, mesoscopioc_noise).to_event(1))\n",
    "        \n",
    "        return trajectory, observed_polarization"
   ],
   "metadata": {
    "collapsed": false
   },
   "id": "74dd3d6a0b52ad39",
   "execution_count": 20
  },
  {
   "cell_type": "code",
   "outputs": [],
   "source": [
    "# NO CHANGE\n",
    "# Default experimental context\n",
    "no_vfish = nullcontext()\n",
    "\n",
    "# Simple sinusoidal virtual fish.\n",
    "exemplar_sinusoid_vfish = VirtualFishContext(\n",
    "    sinusoidal_virtual_fish,\n",
    "    initial_state=dict(\n",
    "        vfish_theta=torch.tensor(0.0)\n",
    "    ),\n",
    "    atemp_params=dict(\n",
    "        frequency=torch.tensor(1.),\n",
    "        amplitude=torch.tensor(torch.pi),\n",
    "        phase=torch.tensor(0.)\n",
    "    )\n",
    ")"
   ],
   "metadata": {
    "collapsed": false
   },
   "id": "840b6cae94133a35",
   "execution_count": 21
  },
  {
   "cell_type": "code",
   "outputs": [],
   "source": [
    "# NO CHANGE\n",
    "PosteriorMesh = namedtuple(\"PosteriorMesh\", [\"alpha\", \"beta\", \"log_prob\"])\n",
    "\n",
    "def likelihood_mesh_2fish(model, n=90):\n",
    "    # Make a torch meshgrid of copy coefficients.\n",
    "    alpha = torch.linspace(0., 7., n)\n",
    "    beta = torch.linspace(0., 7., n)\n",
    "    alpha, beta = torch.meshgrid(alpha, beta, indexing='xy')\n",
    "    latents = torch.stack([alpha, beta], dim=0).reshape(2, -1).T  # .shape == (n^2, 2)\n",
    "    \n",
    "    log_probs = []\n",
    "    for copy_coefs in latents:\n",
    "        with pyro.poutine.trace() as tr:\n",
    "            with condition(data=dict(copy_coefs=copy_coefs)):\n",
    "                model()\n",
    "        log_probs.append(tr.trace.log_prob_sum())\n",
    "        print(f\"Progress {len(log_probs)}/{latents.shape[0]}\", end=\"\\r\")\n",
    "    \n",
    "    print()\n",
    "    \n",
    "    return PosteriorMesh(alpha, beta, torch.tensor(log_probs).reshape(n, n))"
   ],
   "metadata": {
    "collapsed": false
   },
   "id": "fdc4f5a4d25406b7",
   "execution_count": 13
  },
  {
   "cell_type": "code",
   "outputs": [],
   "source": [
    "# NO CHANGE\n",
    "def sample_from_mesh(mesh, num_samples, noise=0.05):\n",
    "    xy = torch.stack([mesh.alpha, mesh.beta], dim=0).reshape(2, -1)\n",
    "    probs = torch.softmax(mesh.log_prob.reshape(-1) - mesh.log_prob.max(), dim=0)\n",
    "    idxs = torch.multinomial(probs, num_samples, replacement=True)\n",
    "    return xy[:, idxs].T + torch.randn_like(xy[:, idxs].T) * noise"
   ],
   "metadata": {
    "collapsed": false
   },
   "id": "8b1c92b68067b386",
   "execution_count": 33
  },
  {
   "cell_type": "code",
   "outputs": [],
   "source": [
    "# NO CHANGE\n",
    "XLIM = (0., 7.)\n",
    "YLIM = (0., 7.)"
   ],
   "metadata": {
    "collapsed": false
   },
   "id": "ab7eb97d2ce368f9"
  }
 ],
 "metadata": {
  "kernelspec": {
   "display_name": "Python 3",
   "language": "python",
   "name": "python3"
  },
  "language_info": {
   "codemirror_mode": {
    "name": "ipython",
    "version": 2
   },
   "file_extension": ".py",
   "mimetype": "text/x-python",
   "name": "python",
   "nbconvert_exporter": "python",
   "pygments_lexer": "ipython2",
   "version": "2.7.6"
  }
 },
 "nbformat": 4,
 "nbformat_minor": 5
}
