{
 "cells": [
  {
   "cell_type": "code",
   "execution_count": 1,
   "id": "initial_id",
   "metadata": {
    "collapsed": true,
    "ExecuteTime": {
     "end_time": "2024-09-20T18:55:57.240257Z",
     "start_time": "2024-09-20T18:55:32.070213Z"
    }
   },
   "outputs": [
    {
     "name": "stdout",
     "output_type": "stream",
     "text": [
      "Detected IPython. Loading juliacall extension. See https://juliapy.github.io/PythonCall.jl/stable/compat/#IPython\n"
     ]
    },
    {
     "name": "stderr",
     "output_type": "stream",
     "text": [
      "  Activating project at `~/.julia/environments/diffeqpy`\n",
      "  Activating project at `~/.julia/environments/diffeqpy`\n",
      "  Activating project at `~/.julia/environments/diffeqpy`\n",
      "  Activating project at `~/.julia/environments/diffeqpy`\n"
     ]
    }
   ],
   "source": [
    "from chirho_diffeqpy import DiffEqPy, ATempParams\n",
    "from chirho.dynamical.handlers.solver import TorchDiffEq\n",
    "from chirho.dynamical.ops import simulate\n",
    "from chirho.dynamical.handlers.trajectory import LogTrajectory\n",
    "from chirho.dynamical.handlers import StaticBatchObservation, StaticIntervention, DynamicIntervention\n",
    "from chirho.counterfactual.handlers import MultiWorldCounterfactual\n",
    "from chirho.observational.handlers import condition\n",
    "from chirho.dynamical.ops import State\n",
    "import numpy as np\n",
    "import torch\n",
    "from pyro import sample, set_rng_seed\n",
    "from pyro.distributions import Uniform, Poisson\n",
    "from typing import Tuple, Optional, Union, Callable\n",
    "from functools import partial\n",
    "from numbers import Real\n",
    "import matplotlib.pyplot as plt\n",
    "import pyro\n",
    "import pyro.distributions as dist\n",
    "from pyro.infer.autoguide import AutoDelta, AutoMultivariateNormal\n",
    "from contextlib import nullcontext\n",
    "# The DiffEqPy backend interfaces with julia, so we must load a julia<>python interop backend.\n",
    "import chirho_diffeqpy.lang_interop.julianumpy\n",
    "from contextlib import ExitStack, nullcontext\n",
    "from pyro.contrib.autoname import scope\n",
    "# Global params are weird.\n",
    "from functools import singledispatch, partial\n",
    "import pyro\n",
    "import torch\n",
    "import zuko\n",
    "from pyro.contrib.zuko import ZukoToPyro\n",
    "from pyro.contrib.easyguide import easy_guide\n",
    "from collections import namedtuple\n",
    "from chirho.observational.handlers import condition\n",
    "from itertools import product\n",
    "from toy_fish.handlers import VirtualFishContext\n",
    "from toy_fish.ops import sin, cos, NoVirtualFish, virtual_fish_dynamics\n",
    "\n",
    "pyro.settings.set(module_local_params=True)\n",
    "torch.set_default_dtype(torch.float64)\n",
    "pyro.set_rng_seed(82901)"
   ]
  },
  {
   "cell_type": "markdown",
   "id": "c923d8f1ab9ff37b",
   "metadata": {
    "collapsed": false
   },
   "source": [
    "# System Definition"
   ]
  },
  {
   "cell_type": "markdown",
   "id": "5b9927b93fb716fd",
   "metadata": {
    "collapsed": false
   },
   "source": [
    "### General, Multi-Fish System Dynamics"
   ]
  },
  {
   "cell_type": "code",
   "execution_count": 2,
   "id": "f1a31078558a963",
   "metadata": {
    "collapsed": false,
    "ExecuteTime": {
     "end_time": "2024-09-20T18:55:57.413633Z",
     "start_time": "2024-09-20T18:55:57.214644Z"
    }
   },
   "outputs": [],
   "source": [
    "def pure_schooling_dynamics(state, atemp_params):\n",
    "    thetas = state['thetas']\n",
    "    \n",
    "    # If this is being run in the experimental context of a virtual fish,\n",
    "    #  compute the virtual fish dynamics and distance to real fish.\n",
    "    try:\n",
    "        # ...if the virtual fish is present.\n",
    "        ddt_vfish = virtual_fish_dynamics(state, atemp_params)\n",
    "        vfish_theta = state['vfish_theta']\n",
    "        virtual_fish_diff = vfish_theta - thetas\n",
    "    except NoVirtualFish:\n",
    "        # ...otherwise proceed with no virtual fish.\n",
    "        ddt_vfish = dict()\n",
    "        virtual_fish_diff = 0.0\n",
    "    \n",
    "    # Compute the distances between the real fish and virtual fish.\n",
    "    thetas_diff_mat = thetas[..., :, None] - thetas[..., None, :]\n",
    "    thetas_diff_tots = thetas_diff_mat.sum(axis=-2) + virtual_fish_diff\n",
    "    assert thetas.shape == thetas_diff_tots.shape\n",
    "    \n",
    "    # And the resulting dynamics.\n",
    "    copy_coefs = atemp_params['copy_coefs']\n",
    "    dthetas = thetas_diff_tots * copy_coefs\n",
    "    \n",
    "    return dict(\n",
    "        thetas=dthetas,\n",
    "        **ddt_vfish\n",
    "    )"
   ]
  },
  {
   "cell_type": "markdown",
   "id": "aae22f815ddb0bf6",
   "metadata": {
    "collapsed": false
   },
   "source": [
    "### Virtual Fish Definitions"
   ]
  },
  {
   "cell_type": "code",
   "execution_count": 3,
   "id": "d4636cc8dace67b3",
   "metadata": {
    "collapsed": false,
    "ExecuteTime": {
     "end_time": "2024-09-20T18:55:57.418201Z",
     "start_time": "2024-09-20T18:55:57.244462Z"
    }
   },
   "outputs": [],
   "source": [
    "def sinusoidal_virtual_fish(state, atemp_params):\n",
    "    \n",
    "    frequency = atemp_params['frequency']\n",
    "    amplitude = atemp_params['amplitude']\n",
    "    phase = atemp_params['phase']\n",
    "    t = state['t']\n",
    "    \n",
    "    return dict(\n",
    "        vfish_theta=amplitude * frequency * cos(frequency * t + phase)\n",
    "    )"
   ]
  },
  {
   "cell_type": "markdown",
   "id": "b3e3e50ff7689c08",
   "metadata": {
    "collapsed": false
   },
   "source": [
    "### Low Level, Default Experimental Model"
   ]
  },
  {
   "cell_type": "code",
   "execution_count": 4,
   "id": "b471b45881f48376",
   "metadata": {
    "collapsed": false,
    "ExecuteTime": {
     "end_time": "2024-09-20T18:55:57.457819Z",
     "start_time": "2024-09-20T18:55:57.373526Z"
    }
   },
   "outputs": [],
   "source": [
    "START_T = torch.tensor(0.0)\n",
    "END_T = torch.tensor(5.0)\n",
    "RES = 50\n",
    "GET_TRUE_COPY_COEFS = lambda: torch.tensor([3., 1.])\n",
    "\n",
    "def run_experiment(logging_times, initial_state, atemp_params):\n",
    "    with LogTrajectory(times=logging_times) as logging_trajectory:\n",
    "        simulate(\n",
    "            pure_schooling_dynamics,\n",
    "            initial_state,\n",
    "            START_T,\n",
    "            END_T,\n",
    "            atemp_params=atemp_params\n",
    "        )\n",
    "    return logging_trajectory.trajectory"
   ]
  },
  {
   "cell_type": "markdown",
   "id": "fba8a4037f82c88",
   "metadata": {
    "collapsed": false
   },
   "source": [
    "### Mesoscopic Observations"
   ]
  },
  {
   "cell_type": "code",
   "execution_count": 5,
   "id": "b51ac21121a6c0e9",
   "metadata": {
    "collapsed": false,
    "ExecuteTime": {
     "end_time": "2024-09-20T18:55:57.458759Z",
     "start_time": "2024-09-20T18:55:57.391171Z"
    }
   },
   "outputs": [],
   "source": [
    "def polarization_fn(theta):\n",
    "    theta = theta.T\n",
    "    assert theta.shape[-1] == 2, \"Multi-fish polarization is not yet implemented!\"\n",
    "    return torch.sqrt((1 + torch.cos(theta[...,0] - theta[...,1]))/2)"
   ]
  },
  {
   "cell_type": "markdown",
   "source": [
    "### Mesoscopic Experimental Model"
   ],
   "metadata": {
    "collapsed": false
   },
   "id": "7c419be36a91f3f3"
  },
  {
   "cell_type": "code",
   "outputs": [],
   "source": [
    "SOLVER = DiffEqPy()"
   ],
   "metadata": {
    "collapsed": false,
    "ExecuteTime": {
     "end_time": "2024-09-20T18:55:57.459586Z",
     "start_time": "2024-09-20T18:55:57.396355Z"
    }
   },
   "id": "ab7a9f8c3161597f",
   "execution_count": 6
  },
  {
   "cell_type": "code",
   "outputs": [],
   "source": [
    "def copy_coefficient_prior(num_fish: int):\n",
    "    return sample(\"copy_coefs\", dist.Uniform(0., 10.).expand((num_fish,)).to_event(1))\n",
    "\n",
    "def run_mesoscopic_experiment(\n",
    "    num_fish: int,\n",
    "    mesoscopioc_noise: float,\n",
    "    experimental_context = None,\n",
    "    copy_coefs = None,\n",
    "    initial_state = None,\n",
    "):\n",
    "    \n",
    "    if experimental_context is None:\n",
    "        experimental_context = nullcontext()\n",
    "    \n",
    "    if copy_coefs is None:\n",
    "        copy_coefs = copy_coefficient_prior(num_fish)\n",
    "    \n",
    "    if initial_state is None:\n",
    "        initial_state = dict(\n",
    "            thetas=torch.linspace(0., torch.pi, num_fish)\n",
    "        )\n",
    "    \n",
    "    fixed_observation_times = torch.linspace(START_T, END_T, RES)\n",
    "    \n",
    "    with SOLVER, experimental_context:\n",
    "        trajectory = run_experiment(\n",
    "            logging_times=fixed_observation_times,\n",
    "            initial_state=initial_state,\n",
    "            atemp_params=dict(\n",
    "                copy_coefs=copy_coefs\n",
    "            )\n",
    "        )\n",
    "        \n",
    "        polarization = polarization_fn(trajectory['thetas'])\n",
    "        # A trivial noise model over the polarization. This largely functions to relax the problem for inference.\n",
    "        observed_polarization = pyro.sample(\"polarization\", dist.Normal(polarization, mesoscopioc_noise).to_event(1))\n",
    "        \n",
    "        return trajectory, observed_polarization"
   ],
   "metadata": {
    "collapsed": false,
    "ExecuteTime": {
     "end_time": "2024-09-20T19:03:26.496699Z",
     "start_time": "2024-09-20T19:03:26.471668Z"
    }
   },
   "id": "df3da497f3058912",
   "execution_count": 14
  },
  {
   "cell_type": "markdown",
   "source": [
    "### Experimental Contexts"
   ],
   "metadata": {
    "collapsed": false
   },
   "id": "c210bc43c0a38dbb"
  },
  {
   "cell_type": "code",
   "outputs": [],
   "source": [
    "# Default experimental context\n",
    "no_vfish = nullcontext()\n",
    "\n",
    "# Simple sinusoidal virtual fish.\n",
    "exemplar_sinusoid_vfish = VirtualFishContext(\n",
    "    sinusoidal_virtual_fish,\n",
    "    initial_state=dict(\n",
    "        vfish_theta=torch.tensor(0.0)\n",
    "    ),\n",
    "    atemp_params=dict(\n",
    "        frequency=torch.tensor(1.),\n",
    "        amplitude=torch.tensor(torch.pi),\n",
    "        phase=torch.tensor(0.)\n",
    "    )\n",
    ")"
   ],
   "metadata": {
    "collapsed": false,
    "ExecuteTime": {
     "end_time": "2024-09-20T19:03:31.637807Z",
     "start_time": "2024-09-20T19:03:31.600257Z"
    }
   },
   "id": "b7ae5120a6333824",
   "execution_count": 15
  },
  {
   "cell_type": "code",
   "outputs": [],
   "source": [
    "# TODO add 3, 1/1, 3 non-identification example here\n",
    "\n",
    "LOW_NOISE = 0.00001\n",
    "\n",
    "traj31, pol31 = run_mesoscopic_experiment(\n",
    "    num_fish=2,\n",
    "    mesoscopioc_noise=LOW_NOISE,\n",
    "    experimental_context=exemplar_sinusoid_vfish,\n",
    "    copy_coefs=GET_TRUE_COPY_COEFS()\n",
    ")\n",
    "\n",
    "traj13, pol13 = run_mesoscopic_experiment(\n",
    "    num_fish=2,\n",
    "    mesoscopioc_noise=LOW_NOISE,\n",
    "    experimental_context=exemplar_sinusoid_vfish,\n",
    "    copy_coefs=reversed(GET_TRUE_COPY_COEFS())\n",
    ")\n"
   ],
   "metadata": {
    "collapsed": false,
    "ExecuteTime": {
     "end_time": "2024-09-20T19:04:30.234219Z",
     "start_time": "2024-09-20T19:04:30.179682Z"
    }
   },
   "id": "db9d26ef64a7d0ea",
   "execution_count": 18
  },
  {
   "cell_type": "code",
   "execution_count": 19,
   "id": "585e0789320cc588",
   "metadata": {
    "collapsed": false,
    "ExecuteTime": {
     "end_time": "2024-09-20T19:04:30.809213Z",
     "start_time": "2024-09-20T19:04:30.800772Z"
    }
   },
   "outputs": [],
   "source": [
    "def plot_experiments(trajectories, observed_polarizations):\n",
    "    \n",
    "    for i, trajectory in enumerate(trajectories):\n",
    "        plt.figure()\n",
    "        plt.suptitle(f\"Fish Thetas {i}\")\n",
    "        plt.plot(trajectory['thetas'].detach().numpy().T)\n",
    "        if 'vfish_theta' in trajectory:\n",
    "            plt.plot(trajectory['vfish_theta'].detach().numpy(), label='vfish_theta', linestyle=\"--\")\n",
    "        \n",
    "    plt.figure()\n",
    "    plt.suptitle(\"Polarizations\")\n",
    "    for i, polarization in enumerate(observed_polarizations):\n",
    "        plt.plot(polarization.detach().numpy(), label=f\"Experiment {i}\")\n",
    "    plt.legend()\n",
    "    \n",
    "    plt.show()"
   ]
  },
  {
   "cell_type": "code",
   "outputs": [
    {
     "data": {
      "text/plain": "<Figure size 640x480 with 1 Axes>",
      "image/png": "[encoded data removed]"
     },
     "metadata": {},
     "output_type": "display_data"
    },
    {
     "data": {
      "text/plain": "<Figure size 640x480 with 1 Axes>",
      "image/png": "[encoded data removed]"
     },
     "metadata": {},
     "output_type": "display_data"
    },
    {
     "data": {
      "text/plain": "<Figure size 640x480 with 1 Axes>",
      "image/png": "[encoded data removed]"
     },
     "metadata": {},
     "output_type": "display_data"
    }
   ],
   "source": [
    "plot_experiments([traj31, traj13], [pol31, pol13])"
   ],
   "metadata": {
    "collapsed": false,
    "ExecuteTime": {
     "end_time": "2024-09-20T19:04:31.463235Z",
     "start_time": "2024-09-20T19:04:31.278663Z"
    }
   },
   "id": "92ee6de5596b02a7",
   "execution_count": 20
  },
  {
   "cell_type": "markdown",
   "source": [
    "### Experimental Meta-Model\n",
    "We can now construct a hierarchical meta-model that simulates multiple experiments, but assumes that the same copy coefficients are shared across the fish in each experiment.  "
   ],
   "metadata": {
    "collapsed": false
   },
   "id": "a8d38f8a538f12"
  },
  {
   "cell_type": "code",
   "outputs": [],
   "source": [
    "def experimental_meta_model(num_fish: int = 2, experimental_contexts: Tuple = ()):\n",
    "    \n",
    "    copy_coefs = copy_coefficient_prior(num_fish)\n",
    "    fixed_initial_state = dict(\n",
    "        thetas=torch.linspace(0., torch.pi, num_fish)\n",
    "    )\n",
    "    \n",
    "    observed_polarizations = []\n",
    "    trajectories = []\n",
    "    \n",
    "    for i, experimental_context in enumerate(experimental_contexts):\n",
    "        with scope(prefix=f\"experiment{i}\"):\n",
    "            traj, obs_pol = run_mesoscopic_experiment(\n",
    "                experimental_context,\n",
    "                num_fish=num_fish,\n",
    "                copy_coefs=copy_coefs,\n",
    "                initial_state=fixed_initial_state\n",
    "            )\n",
    "        trajectories.append(traj)\n",
    "        observed_polarizations.append(obs_pol)\n",
    "    \n",
    "    return trajectories, observed_polarizations\n",
    "    "
   ],
   "metadata": {
    "collapsed": false
   },
   "id": "f5e976aadd5207d5",
   "execution_count": 0
  },
  {
   "cell_type": "markdown",
   "source": [
    "### Simulation Example"
   ],
   "metadata": {
    "collapsed": false
   },
   "id": "d87069c27d3bd6a7"
  },
  {
   "cell_type": "code",
   "execution_count": null,
   "id": "ab9fbe07a3002a1a",
   "metadata": {
    "collapsed": false
   },
   "outputs": [],
   "source": [
    "with condition(data=dict(copy_coefs=GET_TRUE_COPY_COEFS())):\n",
    "# with condition(data=dict(copy_coefs=torch.tensor([2., 1.]))):\n",
    "    plot_experiments(\n",
    "        *experimental_meta_model(\n",
    "            num_fish=2, \n",
    "            experimental_contexts=(no_vfish, exemplar_sinusoid_vfish)\n",
    "        )\n",
    "    )"
   ]
  },
  {
   "cell_type": "markdown",
   "id": "9fa6560cd61c22f2",
   "metadata": {
    "collapsed": false
   },
   "source": [
    "# Inference"
   ]
  },
  {
   "cell_type": "markdown",
   "id": "3b3c61dfe382add9",
   "metadata": {
    "collapsed": false
   },
   "source": [
    "### Inference Utilities"
   ]
  },
  {
   "cell_type": "code",
   "execution_count": null,
   "id": "1acbd1182b4df514",
   "metadata": {
    "collapsed": false
   },
   "outputs": [],
   "source": [
    "PosteriorMesh = namedtuple(\"PosteriorMesh\", [\"alpha\", \"beta\", \"log_prob\"])\n",
    "\n",
    "def likelihood_mesh_2fish(model, n=90):\n",
    "    # Make a torch meshgrid of copy coefficients.\n",
    "    alpha = torch.linspace(0., 7., n)\n",
    "    beta = torch.linspace(0., 7., n)\n",
    "    alpha, beta = torch.meshgrid(alpha, beta, indexing='xy')\n",
    "    latents = torch.stack([alpha, beta], dim=0).reshape(2, -1).T  # .shape == (n^2, 2)\n",
    "    \n",
    "    log_probs = []\n",
    "    for copy_coefs in latents:\n",
    "        with pyro.poutine.trace() as tr:\n",
    "            with condition(data=dict(copy_coefs=copy_coefs)):\n",
    "                model()\n",
    "        log_probs.append(tr.trace.log_prob_sum())\n",
    "        print(f\"Progress {len(log_probs)}/{latents.shape[0]}\", end=\"\\r\")\n",
    "    \n",
    "    print()\n",
    "    \n",
    "    return PosteriorMesh(alpha, beta, torch.tensor(log_probs).reshape(n, n))"
   ]
  },
  {
   "cell_type": "markdown",
   "id": "3ae5d7d3fdeb427e",
   "metadata": {
    "collapsed": false
   },
   "source": [
    "### Inference on Each Experiment, Separately and Together"
   ]
  },
  {
   "cell_type": "code",
   "execution_count": null,
   "id": "ba6e00ae4b4f340",
   "metadata": {
    "collapsed": false
   },
   "outputs": [],
   "source": [
    "NUM_FISH = 2"
   ]
  },
  {
   "cell_type": "code",
   "execution_count": null,
   "id": "ca95f6e46e20fe2a",
   "metadata": {
    "collapsed": false
   },
   "outputs": [],
   "source": [
    "# Generate the experimental data under parameter ground truth.\n",
    "with condition(data=dict(copy_coefs=GET_TRUE_COPY_COEFS())):\n",
    "    _, (polar_no_vfish, polar_sin_vfish) = experimental_meta_model(\n",
    "        num_fish=NUM_FISH, \n",
    "        experimental_contexts=(no_vfish, exemplar_sinusoid_vfish)\n",
    "    )"
   ]
  },
  {
   "cell_type": "code",
   "execution_count": null,
   "id": "cda37f50a42b2a07",
   "metadata": {
    "collapsed": false
   },
   "outputs": [],
   "source": []
  },
  {
   "cell_type": "code",
   "execution_count": null,
   "id": "faf32109366ac71f",
   "metadata": {
    "collapsed": false
   },
   "outputs": [],
   "source": []
  },
  {
   "cell_type": "code",
   "execution_count": null,
   "id": "e2de9e07868bc8c1",
   "metadata": {
    "collapsed": false
   },
   "outputs": [],
   "source": [
    "# DEBUG WIP\n",
    "mesh_no_vfish = likelihood_mesh_2fish(\n",
    "    condition(\n",
    "        partial(experimental_meta_model, num_fish=NUM_FISH, experimental_contexts=(no_vfish,)),\n",
    "        data={\"experiment0/polarization\": polar_no_vfish}\n",
    "    )\n",
    ")\n",
    "\n",
    "mesh_sin_vfish = likelihood_mesh_2fish(\n",
    "    condition(\n",
    "        partial(experimental_meta_model, num_fish=NUM_FISH, experimental_contexts=(exemplar_sinusoid_vfish,)),\n",
    "        data={\"experiment0/polarization\": polar_sin_vfish}\n",
    "    )\n",
    ")\n",
    "\n",
    "mesh_all = likelihood_mesh_2fish(\n",
    "    condition(\n",
    "        partial(experimental_meta_model, num_fish=NUM_FISH, experimental_contexts=(no_vfish, exemplar_sinusoid_vfish)),\n",
    "        data={\n",
    "            \"experiment0/polarization\": polar_no_vfish,\n",
    "            \"experiment1/polarization\": polar_sin_vfish,\n",
    "        }\n",
    "    )\n",
    ")"
   ]
  },
  {
   "cell_type": "code",
   "execution_count": null,
   "id": "bf949bf507aca48",
   "metadata": {
    "collapsed": false
   },
   "outputs": [],
   "source": []
  },
  {
   "cell_type": "code",
   "execution_count": null,
   "id": "ccdc828e48fcc39c",
   "metadata": {
    "collapsed": false
   },
   "outputs": [],
   "source": [
    "# DEBUG WIP\n",
    "meshes = (mesh_no_vfish, mesh_sin_vfish, mesh_all)\n",
    "alphas = (0.2, 0.2, 1.0)\n",
    "cmaps = ('viridis', 'viridis', 'viridis')\n",
    "names = iter([\"No Virtual Fish\", \"Sinusoidal Virtual Fish\", \"All Experiments\"])\n",
    "for together in (False, True):\n",
    "    for mesh, alpha, cmap in zip(meshes, alphas, cmaps):\n",
    "        if not together:\n",
    "            plt.figure()\n",
    "            plt.suptitle(next(names))\n",
    "            alpha = 1.0\n",
    "        plt.contour(\n",
    "            mesh.alpha, mesh.beta, mesh.log_prob,\n",
    "            levels=[torch.quantile(mesh.log_prob, q) for q in (.96, .97, .98, .99, .999, 0.9999)],\n",
    "            alpha=alpha,\n",
    "            cmap=cmap\n",
    "        )\n",
    "        # true\n",
    "        plt.axvline(GET_TRUE_COPY_COEFS()[0].item(), color='red', linestyle='--', linewidth=0.5, alpha=0.5)\n",
    "        plt.axhline(GET_TRUE_COPY_COEFS()[1].item(), color='red', linestyle='--', linewidth=0.5, alpha=0.5)\n",
    "    "
   ]
  },
  {
   "cell_type": "code",
   "execution_count": null,
   "id": "933dd7184f9487ce",
   "metadata": {
    "collapsed": false
   },
   "outputs": [],
   "source": [
    "# DEBUG WIP\n",
    "# Approximately normalize over the mesh and sample from it.\n",
    "def sample_from_mesh(mesh, num_samples):\n",
    "    xy = torch.stack([mesh.alpha, mesh.beta], dim=0).reshape(2, -1)\n",
    "    probs = torch.softmax(mesh.log_prob.reshape(-1) - mesh.log_prob.max(), dim=0)\n",
    "    idxs = torch.multinomial(probs, num_samples, replacement=True)\n",
    "    return xy[:, idxs].T"
   ]
  },
  {
   "cell_type": "code",
   "execution_count": null,
   "id": "1eeac3d3c082386a",
   "metadata": {
    "collapsed": false
   },
   "outputs": [],
   "source": [
    "def entropy_from_mesh(mesh):\n",
    "    probs = torch.softmax(mesh.log_prob.reshape(-1) - mesh.log_prob.max(), dim=0)\n",
    "    return -torch.sum(probs * torch.log(probs + 1e-10))"
   ]
  },
  {
   "cell_type": "code",
   "execution_count": null,
   "id": "c85a18c370d1c542",
   "metadata": {
    "collapsed": false
   },
   "outputs": [],
   "source": [
    "# DEBUG WIP\n",
    "samples_no_vfish = sample_from_mesh(mesh_no_vfish, 1000)\n",
    "samples_sin_vfish = sample_from_mesh(mesh_sin_vfish, 1000)\n",
    "samples_all = sample_from_mesh(mesh_all, 1000)\n",
    "\n",
    "fig, ax = plt.subplots()\n",
    "all_samples = (samples_no_vfish, samples_sin_vfish, samples_all)\n",
    "labels = [\"No Virtual Fish\", \"Sinusoidal Virtual Fish\", \"All Experiments\"]\n",
    "colors = ['blue', 'orange', 'limegreen']\n",
    "for samples, lbl, color in zip(all_samples, labels, colors):\n",
    "    s = samples + torch.randn_like(samples) * 0.05\n",
    "    ax.scatter(s[:,0].detach(), s[:,1].detach(), s=1.0, alpha=.3, label=lbl, color=color)\n",
    "\n",
    "# trues\n",
    "ax.axvline(GET_TRUE_COPY_COEFS()[0].item(), color='red', linestyle='--', linewidth=0.5, alpha=0.2)\n",
    "ax.axhline(GET_TRUE_COPY_COEFS()[1].item(), color='red', linestyle='--', linewidth=0.5, alpha=0.2)\n",
    "\n",
    "ax.set_title(\"Samples from Normalized Posterior Meshes\")\n",
    "ax.legend()"
   ]
  },
  {
   "cell_type": "code",
   "execution_count": null,
   "id": "4ce6d9edecf1becd",
   "metadata": {
    "collapsed": false
   },
   "outputs": [],
   "source": []
  },
  {
   "cell_type": "code",
   "execution_count": null,
   "id": "e3082f20b21d716f",
   "metadata": {
    "collapsed": false
   },
   "outputs": [],
   "source": [
    "prior_fixed_fish = partial(copy_coefficient_prior, num_fish=NUM_FISH)\n",
    "# Standard experiment.\n",
    "svi_no_vfish = build_svi(\n",
    "    prior=prior_fixed_fish,\n",
    "    model=condition(\n",
    "        partial(experimental_meta_model, num_fish=NUM_FISH, experimental_contexts=(no_vfish,)),\n",
    "        data={\"experiment0/polarization\": polar_no_vfish}\n",
    "    ),\n",
    "    variational_family=build_zuko_guide,\n",
    "    num_latents=NUM_FISH\n",
    ")\n",
    "\n",
    "# Experiment with virtual fish.\n",
    "svi_sin_vfish = build_svi(\n",
    "    prior=prior_fixed_fish,\n",
    "    model=condition(\n",
    "        partial(experimental_meta_model, num_fish=NUM_FISH, experimental_contexts=(exemplar_sinusoid_vfish,)),\n",
    "        data={\"experiment0/polarization\": polar_sin_vfish}\n",
    "    ),\n",
    "    variational_family=build_zuko_guide,\n",
    "    num_latents=NUM_FISH\n",
    ")\n",
    "\n",
    "# All three experiments.\n",
    "svi_all = build_svi(\n",
    "    prior=prior_fixed_fish,\n",
    "    model=condition(\n",
    "        partial(experimental_meta_model, num_fish=NUM_FISH, experimental_contexts=(no_vfish, exemplar_sinusoid_vfish)),\n",
    "        data={\n",
    "            \"experiment0/polarization\": polar_no_vfish,\n",
    "            \"experiment1/polarization\": polar_sin_vfish,\n",
    "        }\n",
    "    ),\n",
    "    variational_family=build_zuko_guide,\n",
    "    num_latents=NUM_FISH\n",
    ")\n",
    "\n",
    "svis = svi_no_vfish, svi_sin_vfish, svi_all"
   ]
  },
  {
   "cell_type": "code",
   "execution_count": null,
   "id": "56e81b236e803a13",
   "metadata": {
    "collapsed": false
   },
   "outputs": [],
   "source": [
    "# Run the SVI iterations.\n",
    "NUM_SVI_ITERS = 2000\n",
    "for i in range(NUM_SVI_ITERS):\n",
    "    [svi.svi_iter() for svi in svis]\n",
    "    print(f\"Progress {i+1}/{NUM_SVI_ITERS}\", end=\"\\r\")\n",
    "    \n",
    "    if i == NUM_SVI_ITERS - NUM_SVI_ITERS // 4:\n",
    "        lr = STARTING_LR / 10\n",
    "        [change_lr_(svi, lr) for svi in svis]"
   ]
  },
  {
   "cell_type": "code",
   "execution_count": null,
   "id": "4865fb24bb907e8f",
   "metadata": {
    "collapsed": false
   },
   "outputs": [],
   "source": [
    "def plot_losses(*svis):\n",
    "    plt.figure()\n",
    "    plt.suptitle(\"ELBO Losses\")\n",
    "    for svi in svis:\n",
    "        plt.plot(svi.losses, linewidth=0.5, alpha=0.5)\n",
    "    \n",
    "plot_losses(svi_no_vfish, svi_sin_vfish, svi_all)"
   ]
  },
  {
   "cell_type": "code",
   "execution_count": null,
   "id": "aca3531139fd6134",
   "metadata": {
    "collapsed": false
   },
   "outputs": [],
   "source": [
    "def plot_posterior_samples_from_multiple_runs(true_params, num_samples, *guides, labels=None):\n",
    "    \n",
    "    post_samples = []\n",
    "    for guide in guides:\n",
    "        with pyro.plate(\"samples\", num_samples):\n",
    "            post_samples.append(guide())\n",
    "            \n",
    "    if labels is None:\n",
    "        labels = [f\"Inference {i}\" for i in range(len(guides))]\n",
    "    \n",
    "    fig, ax = plt.subplots(figsize=(12, 12))\n",
    "    for post_sample, lbl in zip(post_samples, labels):\n",
    "        ax.scatter(post_sample['copy_coefs'][:,0].detach(), post_sample['copy_coefs'][:,1].detach(), s=0.05, alpha=0.1, label=lbl)\n",
    "    ax.set_xlabel(r\"$\\alpha$\")\n",
    "    ax.set_ylabel(r\"$\\beta$\")\n",
    "    # 0, 4 xlim ylim\n",
    "    ax.set_xlim(0, 7)\n",
    "    ax.set_ylim(0, 7)\n",
    "    # Plot crosshairs at true_params\n",
    "    ax.axvline(true_params['copy_coefs'][0].item(), color='red', linestyle='--', linewidth=0.5, alpha=0.2)\n",
    "    ax.axhline(true_params['copy_coefs'][1].item(), color='red', linestyle='--', linewidth=0.5, alpha=0.2)\n",
    "    ax.legend()\n",
    "    return fig, ax"
   ]
  },
  {
   "cell_type": "code",
   "execution_count": null,
   "id": "111c03b4a1b356a6",
   "metadata": {
    "collapsed": false
   },
   "outputs": [],
   "source": [
    "plot_posterior_samples_from_multiple_runs(\n",
    "    dict(copy_coefs=GET_TRUE_COPY_COEFS()),\n",
    "    1000,\n",
    "    svi_no_vfish.guide,\n",
    "    svi_sin_vfish.guide,\n",
    "    svi_all.guide,\n",
    "    labels=[\"No Virtual Fish\", \"Sinusoidal Virtual Fish\", \"All Experiments\"]\n",
    ")\n",
    "..."
   ]
  },
  {
   "cell_type": "markdown",
   "id": "50150a448f92fa95",
   "metadata": {
    "collapsed": false
   },
   "source": [
    "# Grid Search for Experimental Parameters "
   ]
  },
  {
   "cell_type": "code",
   "execution_count": null,
   "id": "b851f300c6ab76c7",
   "metadata": {
    "collapsed": false
   },
   "outputs": [],
   "source": [
    "# We're going to create a passle of virtual fish trajectories to test. It will be a grid over the initial virtual fish position and the frequency. We'll keep amplitude and phase fixed.\n",
    "grid_amplitude = [torch.tensor(torch.pi)]\n",
    "grid_phase = [torch.tensor(0.)]\n",
    "grid_frequencies = [torch.tensor(v) for v in (0.5, 1.0, 2.0, 4.0, 15.0)]\n",
    "grid_vfish_theta0 = [torch.tensor(v) for v in (0., torch.pi/2)]\n",
    "\n",
    "# Now create list of virtual fish trajectories\n",
    "virtual_fish_trajectories = []\n",
    "for amp, ph, frq, theta0 in product(grid_amplitude, grid_phase, grid_frequencies, grid_vfish_theta0):\n",
    "    virtual_fish_trajectories.append(\n",
    "        VirtualFishContext(\n",
    "            sinusoidal_virtual_fish,\n",
    "            initial_state=dict(\n",
    "                vfish_theta=theta0\n",
    "            ),\n",
    "            atemp_params=dict(\n",
    "                frequency=frq,\n",
    "                amplitude=amp,\n",
    "                phase=ph\n",
    "            )\n",
    "        )\n",
    "    )"
   ]
  },
  {
   "cell_type": "code",
   "execution_count": null,
   "id": "27f426a584513a8",
   "metadata": {
    "collapsed": false
   },
   "outputs": [],
   "source": [
    "# Now, generate experimental results from each virtual fish trajectory.\n",
    "with condition(data=dict(copy_coefs=GET_TRUE_COPY_COEFS())):\n",
    "    grid_trajectories, grid_polarizations = experimental_meta_model(\n",
    "        num_fish=NUM_FISH, \n",
    "        experimental_contexts=virtual_fish_trajectories\n",
    "    )"
   ]
  },
  {
   "cell_type": "code",
   "execution_count": null,
   "id": "63b2a0982aa11b8e",
   "metadata": {
    "collapsed": false
   },
   "outputs": [],
   "source": [
    "# Reform the trajectories into a grid for plotting.\n",
    "gridded_trajectory_array = np.array(grid_trajectories, dtype=object).reshape(len(grid_frequencies), len(grid_vfish_theta0))"
   ]
  },
  {
   "cell_type": "code",
   "execution_count": null,
   "id": "528697b68473fead",
   "metadata": {
    "collapsed": false
   },
   "outputs": [],
   "source": [
    "# Plot the trajectories in the grid (like below). Use the same plotting strategy employed by plot_experiments. \n",
    "ni, nj = len(grid_frequencies), len(grid_vfish_theta0)\n",
    "fig, axs = plt.subplots(ni, nj, figsize=(6, 12), sharex=True, sharey=True)\n",
    "for i, j in product(range(ni), range(nj)):\n",
    "    ax = axs[i][j]\n",
    "    trajectory = gridded_trajectory_array[i, j]\n",
    "    ax.plot(trajectory['thetas'].detach().numpy().T)\n",
    "    if 'vfish_theta' in trajectory:\n",
    "        ax.plot(trajectory['vfish_theta'].detach().numpy(), label='vfish_theta', linestyle=\"--\")\n",
    "\n",
    "def label_axes(axs, grid_frequencies, grid_vfish_theta0):\n",
    "    for i, j in product(range(ni), range(nj)):\n",
    "        # Label the axes with the grid parameters. Use yaxis label for the leftmost column of plots,\n",
    "        #  and an xaxis label for the bottom row.\n",
    "        if j == 0:\n",
    "            axs[i][j].set_ylabel(f\"Frequency: {grid_frequencies[i].item():.2f}\")\n",
    "        if i == ni - 1:\n",
    "            axs[i][j].set_xlabel(f\"Theta0: {grid_vfish_theta0[j].item():.2f}\")\n",
    "\n",
    "label_axes(axs, grid_frequencies, grid_vfish_theta0)\n",
    "\n",
    "axs[0][-1].legend([\"Fish 0\", \"Fish 1\", \"Virtual Fish\"], loc='lower right')"
   ]
  },
  {
   "cell_type": "code",
   "execution_count": null,
   "id": "e435c61856da7331",
   "metadata": {
    "collapsed": false
   },
   "outputs": [],
   "source": [
    "# # And plot the polarizations of the trajectories as well.\n",
    "# fig, ax = plt.subplots()\n",
    "# for i, j in product(range(ni), range(nj)):\n",
    "#     ax.plot(polarization_fn(gridded_trajectory_array[i, j]['thetas']).detach().numpy(), label=f\"Frequency: {grid_frequencies[i].item():.2f}, Theta0: {grid_vfish_theta0[j].item():.2f}\")"
   ]
  },
  {
   "cell_type": "code",
   "execution_count": null,
   "id": "eb77615c35eb51e9",
   "metadata": {
    "collapsed": false
   },
   "outputs": [],
   "source": []
  },
  {
   "cell_type": "code",
   "execution_count": null,
   "id": "c68b67426bac7ce8",
   "metadata": {
    "collapsed": false
   },
   "outputs": [],
   "source": [
    "posterior_meshes = []\n",
    "\n",
    "for vfish_traj, grid_polar in zip(virtual_fish_trajectories, grid_polarizations):\n",
    "    grid_posterior_mesh = likelihood_mesh_2fish(\n",
    "        condition(\n",
    "            partial(experimental_meta_model, num_fish=NUM_FISH, experimental_contexts=(vfish_traj,)),\n",
    "            data={\"experiment0/polarization\": grid_polar}\n",
    "        ),\n",
    "        n=50,\n",
    "    )\n",
    "    posterior_meshes.append(grid_posterior_mesh)"
   ]
  },
  {
   "cell_type": "code",
   "execution_count": null,
   "id": "3c63606de20f45ee",
   "metadata": {
    "collapsed": false
   },
   "outputs": [],
   "source": [
    "# Plot a subplot grid of samples from each experiment. The grid should be over the virtual fish initial position and frequency, and labeled as such.\n",
    "# This will require reshaping the list of grid_posterior_meshes into the appropriate grid. \n",
    "# y and x axes should be shared accordingly.\n",
    "# Use the already defined function called samples_from_mesh to sample from the mesh.\n",
    "\n",
    "posterior_mesh_array = np.array(posterior_meshes)\n",
    "# Somewhat annoyingly, numpy introspects the named tuple and converts the entire thing to an array.\n",
    "gridded_posterior_mesh_array = posterior_mesh_array.reshape(len(grid_frequencies), len(grid_vfish_theta0), 3, 50, 50)\n",
    "gridded_posterior_mesh_tensor = torch.tensor(gridded_posterior_mesh_array)"
   ]
  },
  {
   "cell_type": "code",
   "execution_count": null,
   "id": "b44b8f1412a4d4bb",
   "metadata": {
    "collapsed": false
   },
   "outputs": [],
   "source": [
    "fig, axs = plt.subplots(ni, nj, figsize=(6, 12), sharex=True, sharey=True)\n",
    "for i, j in product(range(ni), range(nj)):\n",
    "    ax = axs[i][j]\n",
    "    mesh = PosteriorMesh(*gridded_posterior_mesh_tensor[i, j])\n",
    "    samples = sample_from_mesh(mesh, 1000)\n",
    "    s = samples + torch.randn_like(samples) * 0.05\n",
    "    ax.scatter(s[:,0].detach(), s[:,1].detach(), s=1.0, alpha=.3)\n",
    "    ax.axvline(GET_TRUE_COPY_COEFS()[0].item(), color='red', linestyle='--', linewidth=1.0, alpha=1.0)\n",
    "    ax.axhline(GET_TRUE_COPY_COEFS()[1].item(), color='red', linestyle='--', linewidth=1.0, alpha=1.0)\n",
    "    \n",
    "    ax.text(0.7, 0.9, f\"Entropy: {entropy_from_mesh(mesh):.2f}\", horizontalalignment='center', verticalalignment='center', transform=ax.transAxes)\n",
    "\n",
    "label_axes(axs, grid_frequencies, grid_vfish_theta0)"
   ]
  }
 ],
 "metadata": {
  "kernelspec": {
   "display_name": "Python 3",
   "language": "python",
   "name": "python3"
  },
  "language_info": {
   "codemirror_mode": {
    "name": "ipython",
    "version": 2
   },
   "file_extension": ".py",
   "mimetype": "text/x-python",
   "name": "python",
   "nbconvert_exporter": "python",
   "pygments_lexer": "ipython2",
   "version": "2.7.6"
  }
 },
 "nbformat": 4,
 "nbformat_minor": 5
}
