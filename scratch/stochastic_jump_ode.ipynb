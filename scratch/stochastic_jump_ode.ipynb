{
 "cells": [
  {
   "cell_type": "code",
   "execution_count": 218,
   "id": "initial_id",
   "metadata": {
    "collapsed": true,
    "ExecuteTime": {
     "end_time": "2024-09-13T23:45:59.945718Z",
     "start_time": "2024-09-13T23:45:59.943243Z"
    }
   },
   "outputs": [],
   "source": [
    "from chirho_diffeqpy import DiffEqPy, ATempParams, PureDynamics\n",
    "from chirho.dynamical.handlers.solver import TorchDiffEq\n",
    "from chirho.dynamical.ops import simulate\n",
    "from chirho.dynamical.handlers.trajectory import LogTrajectory\n",
    "from chirho.dynamical.handlers import StaticBatchObservation, StaticIntervention, DynamicIntervention\n",
    "from chirho.counterfactual.handlers import MultiWorldCounterfactual\n",
    "from chirho.observational.handlers import condition\n",
    "from chirho.dynamical.ops import State\n",
    "import numpy as np\n",
    "import torch\n",
    "from pyro import sample, set_rng_seed\n",
    "from pyro.distributions import Uniform, Poisson\n",
    "from typing import Tuple, Optional, Union, Callable\n",
    "from functools import partial\n",
    "from numbers import Real\n",
    "import matplotlib.pyplot as plt\n",
    "from typing import List\n",
    "import pyro\n",
    "import pyro.distributions as dist\n",
    "from pyro.infer.autoguide import AutoDelta, AutoMultivariateNormal\n",
    "from contextlib import nullcontext\n",
    "# The DiffEqPy backend interfaces with julia, so we must load a julia<>python interop backend.\n",
    "import chirho_diffeqpy.lang_interop.julianumpy\n",
    "from contextlib import ExitStack, nullcontext\n",
    "from pyro.contrib.autoname import scope\n",
    "# Global params are weird.\n",
    "from functools import singledispatch, partial\n",
    "import pyro\n",
    "import torch\n",
    "import zuko\n",
    "from pyro.contrib.zuko import ZukoToPyro\n",
    "from pyro.contrib.easyguide import easy_guide\n",
    "from collections import namedtuple\n",
    "from chirho.observational.handlers import condition\n",
    "\n",
    "pyro.settings.set(module_local_params=True)\n",
    "torch.set_default_dtype(torch.float64)\n",
    "# pyro.set_rng_seed(82901)"
   ]
  },
  {
   "cell_type": "code",
   "outputs": [],
   "source": [
    "def sinusoid_dynamics(state: State, atemp_params: ATempParams):\n",
    "    frequency = atemp_params['frequency']\n",
    "    amplitude = atemp_params['amplitude']\n",
    "    t = state['t']\n",
    "    \n",
    "    return dict(\n",
    "        # The time derivative of a sin wave.\n",
    "        y=amplitude * frequency * np.cos(frequency * t) - state['y']\n",
    "    )\n",
    "\n",
    "SOLVER = DiffEqPy()"
   ],
   "metadata": {
    "collapsed": false,
    "ExecuteTime": {
     "end_time": "2024-09-13T23:45:59.951593Z",
     "start_time": "2024-09-13T23:45:59.944643Z"
    }
   },
   "id": "8e6488da22b90a91",
   "execution_count": 219
  },
  {
   "cell_type": "code",
   "outputs": [],
   "source": [
    "def stochastic_jump_model(num_jumps: int, start_time: torch.Tensor, end_time: torch.Tensor, noise_per_time_unit: float):\n",
    "   \n",
    "    # <Dynamics>\n",
    "    initial_state = dict(\n",
    "        # y=sample(\"y0\", dist.Normal(0.0, 1.0)),\n",
    "        y=torch.tensor(3.0)\n",
    "    )\n",
    "    \n",
    "    sinusoid_params = dict(\n",
    "        # frequency=sample(\"frequency\", dist.Uniform(0.1, torch.pi)),\n",
    "        frequency=torch.tensor(1.0),\n",
    "        # amplitude=sample(\"amplitude\", dist.Uniform(0.1, 2.0)),\n",
    "        amplitude=torch.tensor(1.0)\n",
    "    )\n",
    "    # </Dynamics>\n",
    "    \n",
    "    # <Jump Model>\n",
    "    jump_times = sample(\"jump_times\", Uniform(start_time, end_time).expand([num_jumps]))\n",
    "    \n",
    "    # Compute the noise prior. I'm not really sure how this should be handled, but the idea\n",
    "    #  is to make it kinda brownian, where noise is proportional to the average distance between\n",
    "    #  jumps.\n",
    "    total_time = end_time - start_time\n",
    "    total_noise = noise_per_time_unit * total_time\n",
    "    noise_per_jump = total_noise / num_jumps\n",
    "    # In this case I'm just saying that the noise can't be larger than the brownian assumption would allow.\n",
    "    # Maybe `max_noise_per_time_unit` and `max_noise_per_jump` would be appropriate.\n",
    "    # I think bounding it this way would require the jump times to space themselves out more or less evenly?\n",
    "    noises = sample(\"noises\", dist.Uniform(0.001, noise_per_jump).expand([num_jumps]))\n",
    "    \n",
    "    def jump_intervention_fn(val: torch.Tensor, jump_idx: int, noise: torch.Tensor):\n",
    "        return val + sample(f\"jump{jump_idx}\", dist.Normal(0.0, noise))\n",
    "    \n",
    "    jump_interventions = ExitStack()\n",
    "    for i, (jump_time, noise) in enumerate(zip(jump_times, noises)):\n",
    "        jump_intervention = StaticIntervention(\n",
    "            time=jump_time,\n",
    "            intervention=dict(y=partial(jump_intervention_fn, jump_idx=i, noise=noise))\n",
    "        )\n",
    "        jump_interventions.enter_context(jump_intervention)\n",
    "    \n",
    "    with jump_interventions:\n",
    "        simulate(\n",
    "            sinusoid_dynamics,\n",
    "            initial_state,\n",
    "            start_time,\n",
    "            end_time,\n",
    "            atemp_params=sinusoid_params,\n",
    "        )\n",
    "    # </Jump Model>\n",
    "    \n",
    "    return jump_times"
   ],
   "metadata": {
    "collapsed": false,
    "ExecuteTime": {
     "end_time": "2024-09-13T23:45:59.956859Z",
     "start_time": "2024-09-13T23:45:59.951504Z"
    }
   },
   "id": "aac671998d79cce5",
   "execution_count": 220
  },
  {
   "cell_type": "code",
   "outputs": [],
   "source": [
    "START_T = 0.0\n",
    "END_T = 10.0\n",
    "NOISE_PER_TIME_UNIT = 2.0\n",
    "NUM_JUMPS = 1000\n",
    "RES = 10000\n",
    "\n",
    "with SOLVER, LogTrajectory(times=torch.linspace(START_T, END_T, RES)) as lt:\n",
    "    jump_times = stochastic_jump_model(NUM_JUMPS, torch.tensor(START_T), torch.tensor(END_T), NOISE_PER_TIME_UNIT)"
   ],
   "metadata": {
    "collapsed": false,
    "ExecuteTime": {
     "end_time": "2024-09-13T23:46:01.752684Z",
     "start_time": "2024-09-13T23:45:59.954487Z"
    }
   },
   "id": "8ef3cea4694d26bc",
   "execution_count": 221
  },
  {
   "cell_type": "code",
   "outputs": [
    {
     "data": {
      "text/plain": "<Figure size 640x480 with 1 Axes>",
      "image/png": "[encoded data removed]"
     },
     "metadata": {},
     "output_type": "display_data"
    }
   ],
   "source": [
    "plt.figure()\n",
    "plt.plot(lt.times, lt.trajectory['y'])\n",
    "for jump_time in jump_times:\n",
    "    plt.axvline(jump_time.item(), color='red', linestyle='--', linewidth=0.01)"
   ],
   "metadata": {
    "collapsed": false,
    "ExecuteTime": {
     "end_time": "2024-09-13T23:46:03.380481Z",
     "start_time": "2024-09-13T23:46:01.760153Z"
    }
   },
   "id": "5ce2581cc1ffce8f",
   "execution_count": 222
  }
 ],
 "metadata": {
  "kernelspec": {
   "display_name": "Python 3",
   "language": "python",
   "name": "python3"
  },
  "language_info": {
   "codemirror_mode": {
    "name": "ipython",
    "version": 2
   },
   "file_extension": ".py",
   "mimetype": "text/x-python",
   "name": "python",
   "nbconvert_exporter": "python",
   "pygments_lexer": "ipython2",
   "version": "2.7.6"
  }
 },
 "nbformat": 4,
 "nbformat_minor": 5
}
